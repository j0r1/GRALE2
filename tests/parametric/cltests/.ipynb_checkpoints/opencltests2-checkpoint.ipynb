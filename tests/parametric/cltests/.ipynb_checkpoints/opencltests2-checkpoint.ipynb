{
 "cells": [
  {
   "cell_type": "code",
   "execution_count": 1,
   "id": "827075a0",
   "metadata": {},
   "outputs": [
    {
     "name": "stdout",
     "output_type": "stream",
     "text": [
      "Set 'threads' as default renderer for lensplane and mass density\n",
      "Set default angular unit in plotting to arcsec\n",
      "Set feedback style to 'notebook'\n"
     ]
    }
   ],
   "source": [
    "%matplotlib inline\n",
    "from grale.all_nb import *\n",
    "import matplotlib.pyplot as plt\n",
    "import numpy as np\n",
    "import os\n",
    "\n",
    "renderers.debugDirectStderr = True\n",
    "renderers.debugOutput = True"
   ]
  },
  {
   "cell_type": "code",
   "execution_count": 2,
   "id": "4f4a5363",
   "metadata": {},
   "outputs": [],
   "source": [
    "class OpenCLPotentialRenderer(renderers.Renderer):\n",
    "    \n",
    "    def __init__(self, feedbackObject = None):\n",
    "        super(OpenCLPotentialRenderer, self).__init__([ \"grale_potential_opencl\" ], \"LENSPLANE\", feedbackObject = feedbackObject)"
   ]
  },
  {
   "cell_type": "code",
   "execution_count": 56,
   "id": "95d6f7c3",
   "metadata": {},
   "outputs": [],
   "source": [
    "Dd = 1000*DIST_MPC\n",
    "Ds = 1300*DIST_MPC\n",
    "Dds = 900*DIST_MPC\n",
    "\n",
    "#l = lenses.PlummerLens(Dd, { \"mass\": 1e15*MASS_SUN, \"width\": 5*ANGLE_ARCSEC})\n",
    "#l = lenses.MassSheetLens(Dd, { \"Ds\": Ds, \"Dds\": Dds })\n",
    "#l = lenses.MultiplePlummerLens(Dd, [\n",
    "#    { \"mass\": 0.7e15*MASS_SUN, \"width\":3*ANGLE_ARCSEC, \"x\": -2*ANGLE_ARCSEC, \"y\": 1*ANGLE_ARCSEC },\n",
    "#    { \"mass\": 0.4e15*MASS_SUN, \"width\":4*ANGLE_ARCSEC, \"x\": 3*ANGLE_ARCSEC, \"y\": -1*ANGLE_ARCSEC },\n",
    "#])\n",
    "\n",
    "#l = lenses.NSIELens(Dd, { \"velocityDispersion\": 400000, \"ellipticity\": 0.8, \"coreRadius\": 1*ANGLE_ARCSEC})\n",
    "l = lenses.SISLens(Dd, { \"velocityDispersion\": 400000 })\n",
    "\n",
    "#l = lenses.CompositeLens(Dd, [\n",
    "#    {\"lens\": lenses.PlummerLens(Dd, { \"mass\": 0.7e15*MASS_SUN, \"width\":3*ANGLE_ARCSEC}),\n",
    "#      \"x\": -2*ANGLE_ARCSEC, \"y\": 1*ANGLE_ARCSEC, \"angle\": 0, \"factor\": 1},\n",
    "#    {\"lens\": lenses.PlummerLens(Dd, { \"mass\": 0.4e15*MASS_SUN, \"width\":4*ANGLE_ARCSEC}),\n",
    "#      \"x\": 3*ANGLE_ARCSEC, \"y\": -1*ANGLE_ARCSEC, \"angle\":0, \"factor\": 1}\n",
    "#])"
   ]
  },
  {
   "cell_type": "code",
   "execution_count": 57,
   "id": "bd4dc2c9",
   "metadata": {
    "scrolled": false
   },
   "outputs": [
    {
     "data": {
      "application/vnd.jupyter.widget-view+json": {
       "model_id": "",
       "version_major": 2,
       "version_minor": 0
      },
      "text/plain": [
       "Text(value='')"
      ]
     },
     "metadata": {},
     "output_type": "display_data"
    },
    {
     "name": "stderr",
     "output_type": "stream",
     "text": [
      "INFO: Found 1 GPU devices\n",
      "INFO: GPU Devices:\n",
      "   0x561104d3b7f0: Quadro K620\n",
      "OpenCL initialized\n",
      "Reading lens of 36 bytes\n",
      "Reading rendering type (grid/separate input points)\n",
      "Reading corner info and resolution\n",
      "Rendering 16x16 from (-4.84814e-05,-4.84814e-05) - (4.84814e-05,4.84814e-05)\n",
      "typedef struct\n",
      "{\n",
      " \tfloat alphaX;\n",
      " \tfloat alphaY;\n",
      "\tfloat potential;\n",
      " \tfloat axx;\n",
      "\tfloat ayy;\n",
      " \tfloat axy;\n",
      "} LensQuantities;\n",
      "\n",
      "LensQuantities clSISLensProgram(float2 coord, __global const int *pIntParams, __global const float *pFloatParams)\n",
      "{\n",
      "\tfloat l = length(coord);\n",
      "\tfloat l2 = coord.x*coord.x+coord.y*coord.y;\n",
      "\tfloat scaledVel = pFloatParams[0];\n",
      "\tfloat scaledEinsteinRad = ((float)0.0625)*scaledVel*scaledVel;\n",
      "\tfloat factor = scaledEinsteinRad/l;\n",
      "\t\n",
      "\tLensQuantities r;\n",
      "\tr.alphaX = factor*coord.x;\n",
      "\tr.alphaY = factor*coord.y;\n",
      "\n",
      "\tfloat potentialFactor = (float)1;\n",
      "\tr.potential = scaledEinsteinRad*l*potentialFactor;\n",
      "\n",
      "\tr.axx = factor*(1.0f-coord.x*coord.x/l2);\n",
      "\tr.ayy = factor*(1.0f-coord.y*coord.y/l2);\n",
      "\tr.axy = -factor*coord.x*coord.y/l2;\n",
      "\n",
      "\treturn r;\n",
      "}\n",
      "\n",
      "__kernel void renderLensPlane(float2 startCoord, float2 step, int numX, int numY,\n",
      "                     __global const int *pIntParams,\n",
      "\t\t     __global const float *pFloatParams,\n",
      "                     __global float *pResults)\n",
      "{\n",
      "\tconst int i = get_global_id(0);\n",
      "\tconst int j = get_global_id(1);\n",
      "\n",
      "\tif (i >= numX || j >= numY)\n",
      "\t\treturn;\n",
      "\n",
      "\tfloat2 pos = { startCoord.x + step.x*((float)i), startCoord.y + step.y*((float)j) } ;\n",
      "\n",
      "\tLensQuantities r = clSISLensProgram(pos, pIntParams, pFloatParams);\n",
      "\n",
      "\tconst int offset = (i+j*numX)*5;\n",
      "\n",
      "\tpResults[offset+0] += r.alphaX;\n",
      "\tpResults[offset+1] += r.alphaY;\n",
      "\tpResults[offset+2] += r.axx;\n",
      "\tpResults[offset+3] += r.ayy;\n",
      "\tpResults[offset+4] += r.axy;\n",
      "}\n",
      "\n",
      "Writing result\n",
      "Finishing, waiting for exit command\n",
      "Renderer exiting as expected.\n"
     ]
    },
    {
     "name": "stdout",
     "output_type": "stream",
     "text": [
      "Ignoring exception when terminating program: Command '['pgrep', '-P', '16073']' returned non-zero exit status 1.\n"
     ]
    },
    {
     "data": {
      "application/vnd.jupyter.widget-view+json": {
       "model_id": "",
       "version_major": 2,
       "version_minor": 0
      },
      "text/plain": [
       "Text(value='')"
      ]
     },
     "metadata": {},
     "output_type": "display_data"
    },
    {
     "name": "stderr",
     "output_type": "stream",
     "text": [
      "INFO: Found 1 GPU devices\n",
      "INFO: GPU Devices:\n",
      "   0x562c309937f0: Quadro K620\n",
      "OpenCL initialized\n",
      "Reading lens of 36 bytes\n",
      "Reading rendering type (grid/separate input points)\n",
      "Reading corner info and resolution\n",
      "Rendering 16x16 from (-4.84814e-05,-4.84814e-05) - (4.84814e-05,4.84814e-05)\n",
      "typedef struct\n",
      "{\n",
      " \tfloat alphaX;\n",
      " \tfloat alphaY;\n",
      "\tfloat potential;\n",
      " \tfloat axx;\n",
      "\tfloat ayy;\n",
      " \tfloat axy;\n",
      "} LensQuantities;\n",
      "LensQuantities clSISLensProgram(float2 coord, __global const int *pIntParams, __global const float *pFloatParams)\n",
      "{\n",
      "\tfloat l = length(coord);\n",
      "\tfloat l2 = coord.x*coord.x+coord.y*coord.y;\n",
      "\tfloat factor = pFloatParams[0]/l;\n",
      "\n",
      "\tLensQuantities r;\n",
      "\tr.alphaX = factor*coord.x;\n",
      "\tr.alphaY = factor*coord.y;\n",
      "\tfloat potentialFactor = (float)1;\n",
      "\tr.potential = pFloatParams[0]*l*potentialFactor;\n",
      "\tr.axx = factor*(1.0f-coord.x*coord.x/l2);\n",
      "\tr.ayy = factor*(1.0f-coord.y*coord.y/l2);\n",
      "\tr.axy = -factor*coord.x*coord.y/l2;\n",
      "\treturn r;\n",
      "}\n",
      "\n",
      "__kernel void renderLensPlane(float2 startCoord, float2 step, int numX, int numY,\n",
      "                     __global const int *pIntParams,\n",
      "\t\t     __global const float *pFloatParams,\n",
      "                     __global float *pResults)\n",
      "{\n",
      "\tconst int i = get_global_id(0);\n",
      "\tconst int j = get_global_id(1);\n",
      "\n",
      "\tif (i >= numX || j >= numY)\n",
      "\t\treturn;\n",
      "\n",
      "\tfloat2 pos = { startCoord.x + step.x*((float)i), startCoord.y + step.y*((float)j) } ;\n",
      "\n",
      "\tLensQuantities r = clSISLensProgram(pos, pIntParams, pFloatParams);\n",
      "\n",
      "\tconst int offset = (i+j*numX)*5;\n",
      "\n",
      "\tpResults[offset+0] += r.alphaX;\n",
      "\tpResults[offset+1] += r.alphaY;\n",
      "\tpResults[offset+2] += r.axx;\n",
      "\tpResults[offset+3] += r.ayy;\n",
      "\tpResults[offset+4] += r.axy;\n",
      "}\n",
      "\n",
      "Writing result\n",
      "Finishing, waiting for exit command\n",
      "Renderer exiting as expected.\n"
     ]
    },
    {
     "name": "stdout",
     "output_type": "stream",
     "text": [
      "Ignoring exception when terminating program: Command '['pgrep', '-P', '16090']' returned non-zero exit status 1.\n"
     ]
    },
    {
     "data": {
      "application/vnd.jupyter.widget-view+json": {
       "model_id": "",
       "version_major": 2,
       "version_minor": 0
      },
      "text/plain": [
       "Text(value='')"
      ]
     },
     "metadata": {},
     "output_type": "display_data"
    },
    {
     "name": "stderr",
     "output_type": "stream",
     "text": [
      "Reading lens of 36 bytes\n",
      "Reading rendering type (grid/separate input points)\n",
      "Reading corner info and resolution\n",
      "Rendering 16x16 from (-4.84814e-05,-4.84814e-05) - (4.84814e-05,4.84814e-05)\n",
      "Number of threads: 8\n",
      "Writing result\n",
      "Finishing, waiting for exit command\n"
     ]
    },
    {
     "data": {
      "application/vnd.jupyter.widget-view+json": {
       "model_id": "",
       "version_major": 2,
       "version_minor": 0
      },
      "text/plain": [
       "FloatProgress(value=0.0)"
      ]
     },
     "metadata": {},
     "output_type": "display_data"
    },
    {
     "name": "stdout",
     "output_type": "stream",
     "text": [
      "Ignoring exception when terminating program: Command '['pgrep', '-P', '16106']' returned non-zero exit status 1.\n"
     ]
    },
    {
     "name": "stderr",
     "output_type": "stream",
     "text": [
      "Renderer exiting as expected.\n"
     ]
    }
   ],
   "source": [
    "os.environ[\"GRALE_OPENCL_PLATFORM\"] = \"0\"\n",
    "os.environ[\"GRALE_EXPERIMENTAL_OPENCLPARAMS\"] = \"1\"\n",
    "lpNew = images.LensPlane(l, -V(10,10)*ANGLE_ARCSEC, V(10,10)*ANGLE_ARCSEC, 16, 16, \"OpenCL\")\n",
    "del os.environ[\"GRALE_EXPERIMENTAL_OPENCLPARAMS\"]\n",
    "lpOld = images.LensPlane(l, -V(10,10)*ANGLE_ARCSEC, V(10,10)*ANGLE_ARCSEC, 16, 16, \"OpenCL\")\n",
    "\n",
    "lpCPU = images.LensPlane(l, -V(10,10)*ANGLE_ARCSEC, V(10,10)*ANGLE_ARCSEC, 16, 16)"
   ]
  },
  {
   "cell_type": "code",
   "execution_count": 58,
   "id": "f3b90059",
   "metadata": {},
   "outputs": [
    {
     "data": {
      "text/plain": [
       "array([[-3.26286124, -3.02209986, -2.72877833, -2.37408   , -1.95135541,\n",
       "        -1.45919608, -0.90495503, -0.30694437,  0.30694385,  0.90495455,\n",
       "         1.45919553,  1.95135486,  2.37407972,  2.72877778,  3.02209959,\n",
       "         3.26286124],\n",
       "       [-3.48703807, -3.26286097, -2.98062486, -2.62655252, -2.1876778 ,\n",
       "        -1.65646697, -1.03758793, -0.35390725,  0.35390666,  1.03758731,\n",
       "         1.65646642,  2.18767753,  2.62655225,  2.98062459,  3.26286097,\n",
       "         3.4870378 ],\n",
       "       [-3.72106128, -3.52255656, -3.26286097, -2.92200121, -2.47734902,\n",
       "        -1.90944502, -1.2141247 , -0.41776688,  0.4177662 ,  1.21412401,\n",
       "         1.90944461,  2.47734847,  2.92200093,  3.26286097,  3.52255601,\n",
       "         3.72106073],\n",
       "       [-3.95679991, -3.79390911, -3.57133466, -3.26286097, -2.83295718,\n",
       "        -2.24094233, -1.45919621, -0.50957368,  0.50957285,  1.45919539,\n",
       "         2.24094192,  2.83295635,  3.26286069,  3.57133466,  3.79390883,\n",
       "         3.95680018],\n",
       "       [-4.18147565, -4.06283004, -3.89297664, -3.64237328, -3.26286097,\n",
       "        -2.68205532, -1.81769448, -0.65257265,  0.65257155,  1.81769365,\n",
       "         2.68205504,  3.26286042,  3.64237246,  3.89297609,  4.06283004,\n",
       "         4.18147538],\n",
       "       [-4.37758754, -4.30681378, -4.20077869, -4.03369575, -3.75487755,\n",
       "        -3.26286097, -2.37408055, -0.9049553 ,  0.904954  ,  2.37407917,\n",
       "         3.26286042,  3.754877  ,  4.03369603,  4.20077896,  4.30681378,\n",
       "         4.37758781],\n",
       "       [-4.52477418, -4.49621335, -4.45178938, -4.37758781, -4.24128665,\n",
       "        -3.95680046, -3.26286124, -1.45919663,  1.45919456,  3.26286042,\n",
       "         3.95679991,  4.24128638,  4.37758781,  4.45178911,  4.49621335,\n",
       "         4.52477363],\n",
       "       [-4.60416188, -4.60079045, -4.59543215, -4.58615977, -4.5680053 ,\n",
       "        -4.52477363, -4.37758754, -3.26286124,  3.26285849,  4.37758699,\n",
       "         4.52477363,  4.5680053 ,  4.5861595 ,  4.59543243,  4.60079045,\n",
       "         4.60416188],\n",
       "       [-4.60416188, -4.60079045, -4.59543215, -4.58615977, -4.5680053 ,\n",
       "        -4.52477446, -4.37758836, -3.26286399,  3.26286097,  4.37758754,\n",
       "         4.52477446,  4.5680053 ,  4.5861595 ,  4.59543243,  4.60079045,\n",
       "         4.60416188],\n",
       "       [-4.52477418, -4.49621335, -4.45178938, -4.37758781, -4.24128693,\n",
       "        -3.95680046, -3.26286207, -1.45919731,  1.45919498,  3.26286124,\n",
       "         3.95679991,  4.24128693,  4.37758781,  4.45178911,  4.49621335,\n",
       "         4.52477418],\n",
       "       [-4.37758754, -4.30681378, -4.20077924, -4.03369658, -3.7548781 ,\n",
       "        -3.26286152, -2.3740811 , -0.90495565,  0.90495434,  2.37407972,\n",
       "         3.26286097,  3.754877  ,  4.03369603,  4.20077896,  4.30681378,\n",
       "         4.37758781],\n",
       "       [-4.18147565, -4.06283059, -3.89297719, -3.64237328, -3.26286124,\n",
       "        -2.68205587, -1.81769489, -0.65257278,  0.65257175,  1.8176942 ,\n",
       "         2.68205504,  3.26286097,  3.64237301,  3.89297664,  4.06283004,\n",
       "         4.18147538],\n",
       "       [-3.95679991, -3.79390938, -3.57133521, -3.26286152, -2.83295718,\n",
       "        -2.24094288, -1.45919649, -0.50957374,  0.50957292,  1.45919566,\n",
       "         2.24094205,  2.83295663,  3.26286124,  3.57133466,  3.79390883,\n",
       "         3.95680018],\n",
       "       [-3.72106128, -3.52255683, -3.26286152, -2.92200148, -2.47734902,\n",
       "        -1.90944543, -1.2141247 , -0.41776695,  0.41776627,  1.21412415,\n",
       "         1.90944475,  2.47734847,  2.92200093,  3.26286097,  3.52255601,\n",
       "         3.721061  ],\n",
       "       [-3.48703835, -3.26286124, -2.98062486, -2.6265528 , -2.18767808,\n",
       "        -1.65646711, -1.037588  , -0.35390728,  0.3539067 ,  1.03758745,\n",
       "         1.65646656,  2.18767753,  2.62655225,  2.98062431,  3.26286124,\n",
       "         3.48703807],\n",
       "       [-3.26286152, -3.02209986, -2.72877833, -2.37408055, -1.95135554,\n",
       "        -1.45919621, -0.90495503, -0.3069444 ,  0.30694389,  0.90495462,\n",
       "         1.4591958 ,  1.95135499,  2.37408   ,  2.72877805,  3.02209959,\n",
       "         3.26286124]])"
      ]
     },
     "execution_count": 58,
     "metadata": {},
     "output_type": "execute_result"
    }
   ],
   "source": [
    "lpNew.getAlphas()[\"alpha_x\"]/ANGLE_ARCSEC"
   ]
  },
  {
   "cell_type": "code",
   "execution_count": 59,
   "id": "28460b55",
   "metadata": {},
   "outputs": [
    {
     "data": {
      "text/plain": [
       "0.0"
      ]
     },
     "execution_count": 59,
     "metadata": {},
     "output_type": "execute_result"
    }
   ],
   "source": [
    "np.max(np.abs(lpNew.getAlphas()[\"alpha_x\"] - lpOld.getAlphas()[\"alpha_x\"]))"
   ]
  },
  {
   "cell_type": "code",
   "execution_count": 60,
   "id": "f15db895",
   "metadata": {},
   "outputs": [
    {
     "data": {
      "text/plain": [
       "0.0"
      ]
     },
     "execution_count": 60,
     "metadata": {},
     "output_type": "execute_result"
    }
   ],
   "source": [
    "np.max(np.abs(lpNew.getAlphas()[\"alpha_y\"] - lpOld.getAlphas()[\"alpha_y\"]))"
   ]
  },
  {
   "cell_type": "code",
   "execution_count": 61,
   "id": "b5b1f559",
   "metadata": {},
   "outputs": [
    {
     "data": {
      "text/plain": [
       "(4.223890386789719e-06, 4.223890386789719e-06, 1.8397045966622727e-06)"
      ]
     },
     "execution_count": 61,
     "metadata": {},
     "output_type": "execute_result"
    }
   ],
   "source": [
    "( np.max(np.abs(lpNew.getAlphaVectorDerivatives()[\"alpha_xx\"] - lpCPU.getAlphaVectorDerivatives()[\"alpha_xx\"])),\n",
    "  np.max(np.abs(lpNew.getAlphaVectorDerivatives()[\"alpha_yy\"] - lpCPU.getAlphaVectorDerivatives()[\"alpha_yy\"])),\n",
    "  np.max(np.abs(lpNew.getAlphaVectorDerivatives()[\"alpha_xy\"] - lpCPU.getAlphaVectorDerivatives()[\"alpha_xy\"])) )"
   ]
  },
  {
   "cell_type": "code",
   "execution_count": 62,
   "id": "15094463",
   "metadata": {},
   "outputs": [
    {
     "data": {
      "text/plain": [
       "0.0"
      ]
     },
     "execution_count": 62,
     "metadata": {},
     "output_type": "execute_result"
    }
   ],
   "source": [
    "np.max(np.abs(lpNew.getAlphaVectorDerivatives()[\"alpha_xx\"] \n",
    "            - lpOld.getAlphaVectorDerivatives()[\"alpha_xx\"]))"
   ]
  },
  {
   "cell_type": "code",
   "execution_count": 63,
   "id": "0e3f8c32",
   "metadata": {},
   "outputs": [
    {
     "data": {
      "text/plain": [
       "0.0"
      ]
     },
     "execution_count": 63,
     "metadata": {},
     "output_type": "execute_result"
    }
   ],
   "source": [
    "np.max(np.abs(lpNew.getAlphaVectorDerivatives()[\"alpha_yy\"] \n",
    "            - lpOld.getAlphaVectorDerivatives()[\"alpha_yy\"]))"
   ]
  },
  {
   "cell_type": "code",
   "execution_count": 64,
   "id": "17eecdb6",
   "metadata": {},
   "outputs": [
    {
     "data": {
      "text/plain": [
       "0.0"
      ]
     },
     "execution_count": 64,
     "metadata": {},
     "output_type": "execute_result"
    }
   ],
   "source": [
    "np.max(np.abs(lpNew.getAlphaVectorDerivatives()[\"alpha_xy\"] \n",
    "            - lpOld.getAlphaVectorDerivatives()[\"alpha_xy\"]))"
   ]
  },
  {
   "cell_type": "code",
   "execution_count": 65,
   "id": "838d02a0",
   "metadata": {},
   "outputs": [],
   "source": [
    "ipNew = images.ImagePlane(lpNew, Ds, Dds)\n",
    "ipOld = images.ImagePlane(lpOld, Ds, Dds)\n",
    "ipCPU = images.ImagePlane(lpCPU, Ds, Dds)"
   ]
  },
  {
   "cell_type": "code",
   "execution_count": 66,
   "id": "02a97585",
   "metadata": {},
   "outputs": [
    {
     "data": {
      "image/png": "[encoded data removed]",
      "text/plain": [
       "<Figure size 640x480 with 1 Axes>"
      ]
     },
     "metadata": {},
     "output_type": "display_data"
    }
   ],
   "source": [
    "def drawLines(ip : images.ImagePlane, color, lw):\n",
    "    lines = ip.getCriticalLines()\n",
    "    for part in lines:\n",
    "        part = np.array(part)/ANGLE_ARCSEC\n",
    "        plt.plot(part[:,0], part[:,1], \"-\", color=color, lw=lw)\n",
    "\n",
    "drawLines(ipCPU, \"green\", 8)\n",
    "drawLines(ipNew, \"red\", 4)\n",
    "drawLines(ipOld, \"blue\", 1)\n",
    "plt.gca().set_aspect(\"equal\")"
   ]
  },
  {
   "cell_type": "code",
   "execution_count": 67,
   "id": "674187a0",
   "metadata": {},
   "outputs": [],
   "source": [
    "potRend = OpenCLPotentialRenderer()"
   ]
  },
  {
   "cell_type": "code",
   "execution_count": 68,
   "id": "7035f9f0",
   "metadata": {},
   "outputs": [],
   "source": [
    "def getPotentialValues(l : lenses.GravitationalLens, bl, tr, numX, numY, useOpenCL):\n",
    "    if not useOpenCL:\n",
    "        thetas = util.createThetaGrid(bl, tr, numX, numY)\n",
    "        phi = l.getProjectedPotential(1,1,thetas)\n",
    "        phi -= np.min(phi)\n",
    "        return phi\n",
    "    \n",
    "    b = potRend.render(l.toBytes(), bl, tr, numX, numY)\n",
    "    buf = np.frombuffer(b, dtype=np.float64).copy()\n",
    "    buf -= np.min(buf)\n",
    "    buf = buf.reshape((numY, numY))\n",
    "    return buf"
   ]
  },
  {
   "cell_type": "code",
   "execution_count": 69,
   "id": "8b40e110",
   "metadata": {
    "scrolled": false
   },
   "outputs": [
    {
     "name": "stderr",
     "output_type": "stream",
     "text": [
      "INFO: Found 1 GPU devices\n",
      "INFO: GPU Devices:\n",
      "   0x560cb60717f0: Quadro K620\n",
      "OpenCL initialized\n",
      "Reading lens of 36 bytes\n",
      "Reading rendering type (grid/separate input points)\n",
      "Reading corner info and resolution\n",
      "Rendering 16x16 from (-4.84814e-05,-4.84814e-05) - (4.84814e-05,4.84814e-05)\n",
      "Integer parameters (0)\n",
      "  -12345\n",
      "\n",
      "Float parameters (1)\n",
      "  4\n",
      "  -12345\n",
      "typedef struct\n",
      "{\n",
      " \tfloat alphaX;\n",
      " \tfloat alphaY;\n",
      "\tfloat potential;\n",
      " \tfloat axx;\n",
      "\tfloat ayy;\n",
      " \tfloat axy;\n",
      "} LensQuantities;\n",
      "\n",
      "LensQuantities clSISLensProgram(float2 coord, __global const int *pIntParams, __global const float *pFloatParams)\n",
      "{\n",
      "\tfloat l = length(coord);\n",
      "\tfloat l2 = coord.x*coord.x+coord.y*coord.y;\n",
      "\tfloat scaledVel = pFloatParams[0];\n",
      "\tfloat scaledEinsteinRad = ((float)0.0625)*scaledVel*scaledVel;\n",
      "\tfloat factor = scaledEinsteinRad/l;\n",
      "\t\n",
      "\tLensQuantities r;\n",
      "\tr.alphaX = factor*coord.x;\n",
      "\tr.alphaY = factor*coord.y;\n",
      "\n",
      "\tfloat potentialFactor = (float)1;\n",
      "\tr.potential = scaledEinsteinRad*l*potentialFactor;\n",
      "\n",
      "\tr.axx = factor*(1.0f-coord.x*coord.x/l2);\n",
      "\tr.ayy = factor*(1.0f-coord.y*coord.y/l2);\n",
      "\tr.axy = -factor*coord.x*coord.y/l2;\n",
      "\n",
      "\treturn r;\n",
      "}\n",
      "\n",
      "__kernel void renderPotential(float2 startCoord, float2 step, int numX, int numY,\n",
      "                     __global const int *pIntParams,\n",
      "\t\t     __global const float *pFloatParams,\n",
      "                     __global float *pResults)\n",
      "{\n",
      "\tconst int i = get_global_id(0);\n",
      "\tconst int j = get_global_id(1);\n",
      "\n",
      "\tif (i >= numX || j >= numY)\n",
      "\t\treturn;\n",
      "\n",
      "\tfloat2 pos = { startCoord.x + step.x*((float)i), startCoord.y + step.y*((float)j) } ;\n",
      "\n",
      "\tLensQuantities r = clSISLensProgram(pos, pIntParams, pFloatParams);\n",
      "\n",
      "\tpResults[i+j*numX] = r.potential;\n",
      "}\n",
      "\n",
      "Writing result\n",
      "Finishing, waiting for exit command\n",
      "Renderer exiting as expected.\n"
     ]
    },
    {
     "name": "stdout",
     "output_type": "stream",
     "text": [
      "Ignoring exception when terminating program: Command '['pgrep', '-P', '16155']' returned non-zero exit status 1.\n"
     ]
    },
    {
     "name": "stderr",
     "output_type": "stream",
     "text": [
      "INFO: Found 1 GPU devices\n",
      "INFO: GPU Devices:\n",
      "   0x55e6958217f0: Quadro K620\n",
      "OpenCL initialized\n",
      "Reading lens of 36 bytes\n",
      "Reading rendering type (grid/separate input points)\n",
      "Reading corner info and resolution\n",
      "Rendering 16x16 from (-4.84814e-05,-4.84814e-05) - (4.84814e-05,4.84814e-05)\n",
      "Integer parameters (0)\n",
      "  -12345\n",
      "\n",
      "Float parameters (1)\n",
      "  1\n",
      "  -12345\n",
      "typedef struct\n",
      "{\n",
      " \tfloat alphaX;\n",
      " \tfloat alphaY;\n",
      "\tfloat potential;\n",
      " \tfloat axx;\n",
      "\tfloat ayy;\n",
      " \tfloat axy;\n",
      "} LensQuantities;\n",
      "LensQuantities clSISLensProgram(float2 coord, __global const int *pIntParams, __global const float *pFloatParams)\n",
      "{\n",
      "\tfloat l = length(coord);\n",
      "\tfloat l2 = coord.x*coord.x+coord.y*coord.y;\n",
      "\tfloat factor = pFloatParams[0]/l;\n",
      "\n",
      "\tLensQuantities r;\n",
      "\tr.alphaX = factor*coord.x;\n",
      "\tr.alphaY = factor*coord.y;\n",
      "\tfloat potentialFactor = (float)1;\n",
      "\tr.potential = pFloatParams[0]*l*potentialFactor;\n",
      "\tr.axx = factor*(1.0f-coord.x*coord.x/l2);\n",
      "\tr.ayy = factor*(1.0f-coord.y*coord.y/l2);\n",
      "\tr.axy = -factor*coord.x*coord.y/l2;\n",
      "\treturn r;\n",
      "}\n",
      "\n",
      "__kernel void renderPotential(float2 startCoord, float2 step, int numX, int numY,\n",
      "                     __global const int *pIntParams,\n",
      "\t\t     __global const float *pFloatParams,\n",
      "                     __global float *pResults)\n",
      "{\n",
      "\tconst int i = get_global_id(0);\n",
      "\tconst int j = get_global_id(1);\n",
      "\n",
      "\tif (i >= numX || j >= numY)\n",
      "\t\treturn;\n",
      "\n",
      "\tfloat2 pos = { startCoord.x + step.x*((float)i), startCoord.y + step.y*((float)j) } ;\n",
      "\n",
      "\tLensQuantities r = clSISLensProgram(pos, pIntParams, pFloatParams);\n",
      "\n",
      "\tpResults[i+j*numX] = r.potential;\n",
      "}\n",
      "\n",
      "Writing result\n",
      "Finishing, waiting for exit command\n",
      "Renderer exiting as expected.\n"
     ]
    },
    {
     "name": "stdout",
     "output_type": "stream",
     "text": [
      "Ignoring exception when terminating program: Command '['pgrep', '-P', '16171']' returned non-zero exit status 1.\n"
     ]
    }
   ],
   "source": [
    "os.environ[\"GRALE_EXPERIMENTAL_OPENCLPARAMS\"] = \"1\"\n",
    "phiOclNew = getPotentialValues(l, -V(10,10)*ANGLE_ARCSEC, V(10,10)*ANGLE_ARCSEC, 16, 16, True)\n",
    "del os.environ[\"GRALE_EXPERIMENTAL_OPENCLPARAMS\"]\n",
    "phiOclOld = getPotentialValues(l, -V(10,10)*ANGLE_ARCSEC, V(10,10)*ANGLE_ARCSEC, 16, 16, True)\n",
    "phiCPU = getPotentialValues(l, -V(10,10)*ANGLE_ARCSEC, V(10,10)*ANGLE_ARCSEC, 16, 16, False)"
   ]
  },
  {
   "cell_type": "code",
   "execution_count": 70,
   "id": "8be96a33",
   "metadata": {},
   "outputs": [
    {
     "data": {
      "text/plain": [
       "0.0"
      ]
     },
     "execution_count": 70,
     "metadata": {},
     "output_type": "execute_result"
    }
   ],
   "source": [
    "np.max(np.abs(phiOclNew - phiOclOld))"
   ]
  },
  {
   "cell_type": "code",
   "execution_count": 71,
   "id": "10b0ebc7",
   "metadata": {},
   "outputs": [
    {
     "data": {
      "text/plain": [
       "8.423022023862359e-06"
      ]
     },
     "execution_count": 71,
     "metadata": {},
     "output_type": "execute_result"
    }
   ],
   "source": [
    "np.max(np.abs(phiCPU/ANGLE_ARCSEC**2 - phiOclNew/ANGLE_ARCSEC**2))"
   ]
  },
  {
   "cell_type": "code",
   "execution_count": 72,
   "id": "aebe71e5",
   "metadata": {},
   "outputs": [
    {
     "data": {
      "text/plain": [
       "(60.90674413227218, 60.9067391171244)"
      ]
     },
     "execution_count": 72,
     "metadata": {},
     "output_type": "execute_result"
    }
   ],
   "source": [
    "(phiOclNew/ANGLE_ARCSEC**2)[0,0],(phiCPU/ANGLE_ARCSEC**2)[0,0]"
   ]
  },
  {
   "cell_type": "code",
   "execution_count": null,
   "id": "7dd4217e",
   "metadata": {},
   "outputs": [],
   "source": []
  },
  {
   "cell_type": "code",
   "execution_count": null,
   "id": "06981c24",
   "metadata": {},
   "outputs": [],
   "source": []
  }
 ],
 "metadata": {
  "kernelspec": {
   "display_name": "Python 3 (ipykernel)",
   "language": "python",
   "name": "python3"
  },
  "language_info": {
   "codemirror_mode": {
    "name": "ipython",
    "version": 3
   },
   "file_extension": ".py",
   "mimetype": "text/x-python",
   "name": "python",
   "nbconvert_exporter": "python",
   "pygments_lexer": "ipython3",
   "version": "3.12.1"
  }
 },
 "nbformat": 4,
 "nbformat_minor": 5
}
