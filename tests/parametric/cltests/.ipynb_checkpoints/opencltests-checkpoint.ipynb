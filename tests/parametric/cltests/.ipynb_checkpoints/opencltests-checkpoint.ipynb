{
 "cells": [
  {
   "cell_type": "code",
   "execution_count": 121,
   "id": "a314a7ea",
   "metadata": {},
   "outputs": [],
   "source": [
    "%matplotlib inline\n",
    "from grale.all_nb import *\n",
    "import matplotlib.pyplot as plt\n",
    "import numpy as np\n",
    "import os\n",
    "\n",
    "renderers.debugDirectStderr = True\n",
    "renderers.debugOutput = True"
   ]
  },
  {
   "cell_type": "code",
   "execution_count": 122,
   "id": "ea7e1c07",
   "metadata": {},
   "outputs": [],
   "source": [
    "class OpenCLPotentialRenderer(renderers.Renderer):\n",
    "    \n",
    "    def __init__(self, feedbackObject = None):\n",
    "        super(OpenCLPotentialRenderer, self).__init__([ \"grale_potential_opencl\" ], \"LENSPLANE\", feedbackObject = feedbackObject)"
   ]
  },
  {
   "cell_type": "code",
   "execution_count": 139,
   "id": "6cdc02cf",
   "metadata": {},
   "outputs": [],
   "source": [
    "Dd = 1000*DIST_MPC\n",
    "Ds = 1300*DIST_MPC\n",
    "Dds = 900*DIST_MPC\n",
    "\n",
    "#l = lenses.PlummerLens(Dd, { \"mass\": 1e15*MASS_SUN, \"width\": 5*ANGLE_ARCSEC})\n",
    "#l = lenses.MassSheetLens(Dd, { \"Ds\": Ds, \"Dds\": Dds })\n",
    "l = lenses.MultiplePlummerLens(Dd, [\n",
    "    { \"mass\": 0.7e15*MASS_SUN, \"width\":3*ANGLE_ARCSEC, \"x\": -2*ANGLE_ARCSEC, \"y\": 1*ANGLE_ARCSEC },\n",
    "    { \"mass\": 0.4e15*MASS_SUN, \"width\":4*ANGLE_ARCSEC, \"x\": 3*ANGLE_ARCSEC, \"y\": -1*ANGLE_ARCSEC },\n",
    "])"
   ]
  },
  {
   "cell_type": "code",
   "execution_count": 140,
   "id": "39ac2877",
   "metadata": {
    "scrolled": false
   },
   "outputs": [
    {
     "data": {
      "application/vnd.jupyter.widget-view+json": {
       "model_id": "",
       "version_major": 2,
       "version_minor": 0
      },
      "text/plain": [
       "Text(value='')"
      ]
     },
     "metadata": {},
     "output_type": "display_data"
    },
    {
     "name": "stderr",
     "output_type": "stream",
     "text": [
      "INFO: Found 1 GPU devices\n",
      "INFO: GPU Devices:\n",
      "   0x559a1fb1a7f0: Quadro K620\n",
      "OpenCL initialized\n",
      "Reading lens of 96 bytes\n",
      "Reading rendering type (grid/separate input points)\n",
      "Reading corner info and resolution\n",
      "Rendering 16x16 from (-4.84814e-05,-4.84814e-05) - (4.84814e-05,4.84814e-05)\n",
      "typedef struct\n",
      "{\n",
      " \tfloat alphaX;\n",
      " \tfloat alphaY;\n",
      "\tfloat potential;\n",
      " \tfloat axx;\n",
      "\tfloat ayy;\n",
      " \tfloat axy;\n",
      "} LensQuantities;\n",
      "\n",
      "LensQuantities clMultiplePlummerLensProgram(float2 coord, __global const int *pIntParams, __global const float *pFloatParams)\n",
      "{\n",
      "\tLensQuantities r = { 0 } ;\n",
      "\n",
      "\tfloat potentialPrefactor = pFloatParams[0];\n",
      "\tfor (int i = 0 ; i < 2 ; i++)\n",
      "\t{\n",
      "\t\tint i4 = 1 + i*4;\n",
      "\t\tfloat scaledMass = pFloatParams[i4+0];\n",
      "\t\tfloat scaledWidth = pFloatParams[i4+1];\n",
      "\t\tfloat posx = pFloatParams[i4+2];\n",
      "\t\tfloat posy = pFloatParams[i4+3];\n",
      "\t\tfloat dx = coord.x-posx;\n",
      "\t\tfloat dy = coord.y-posy;\n",
      "\t\tfloat dx2 = dx*dx;\n",
      "\t\tfloat dy2 = dy*dy;\n",
      "\t\tfloat w2 = scaledWidth*scaledWidth;\n",
      "\t\tfloat denom = dx2+dy2+w2;\n",
      "\t\tfloat denom2 = denom*denom;\n",
      "\t\tfloat factor = scaledMass/denom;\n",
      "\t\tfloat factor2 = scaledMass/denom2;\n",
      "\t\n",
      "\t\tr.alphaX += factor*dx;\n",
      "\t\tr.alphaY += factor*dy;\n",
      "\t\tr.potential += potentialPrefactor*scaledMass*log(denom);\n",
      "\n",
      "\t\tr.axx += factor2*(-dx2+dy2+w2);\n",
      "\t\tr.ayy += factor2*(+dx2-dy2+w2);\n",
      "\t\tr.axy += factor2*(-2.0*dx*dy);\n",
      "\n",
      "\t}\n",
      "\treturn r;\n",
      "}\n",
      "\n",
      "__kernel void renderLensPlane(float2 startCoord, float2 step, int numX, int numY,\n",
      "                     __global const int *pIntParams,\n",
      "\t\t     __global const float *pFloatParams,\n",
      "                     __global float *pResults)\n",
      "{\n",
      "\tconst int i = get_global_id(0);\n",
      "\tconst int j = get_global_id(1);\n",
      "\n",
      "\tif (i >= numX || j >= numY)\n",
      "\t\treturn;\n",
      "\n",
      "\tfloat2 pos = { startCoord.x + step.x*((float)i), startCoord.y + step.y*((float)j) } ;\n",
      "\n",
      "\tLensQuantities r = clMultiplePlummerLensProgram(pos, pIntParams, pFloatParams);\n",
      "\n",
      "\tconst int offset = (i+j*numX)*5;\n",
      "\n",
      "\tpResults[offset+0] += r.alphaX;\n",
      "\tpResults[offset+1] += r.alphaY;\n",
      "\tpResults[offset+2] += r.axx;\n",
      "\tpResults[offset+3] += r.ayy;\n",
      "\tpResults[offset+4] += r.axy;\n",
      "}\n",
      "\n",
      "Writing result\n",
      "Finishing, waiting for exit command\n",
      "Renderer exiting as expected.\n"
     ]
    },
    {
     "name": "stdout",
     "output_type": "stream",
     "text": [
      "Ignoring exception when terminating program: Command '['pgrep', '-P', '22809']' returned non-zero exit status 1.\n"
     ]
    },
    {
     "data": {
      "application/vnd.jupyter.widget-view+json": {
       "model_id": "",
       "version_major": 2,
       "version_minor": 0
      },
      "text/plain": [
       "Text(value='')"
      ]
     },
     "metadata": {},
     "output_type": "display_data"
    },
    {
     "name": "stderr",
     "output_type": "stream",
     "text": [
      "INFO: Found 1 GPU devices\n",
      "INFO: GPU Devices:\n",
      "   0x557e3a4b97f0: Quadro K620\n",
      "OpenCL initialized\n",
      "Reading lens of 96 bytes\n",
      "Reading rendering type (grid/separate input points)\n",
      "Reading corner info and resolution\n",
      "Rendering 16x16 from (-4.84814e-05,-4.84814e-05) - (4.84814e-05,4.84814e-05)\n",
      "typedef struct\n",
      "{\n",
      " \tfloat alphaX;\n",
      " \tfloat alphaY;\n",
      "\tfloat potential;\n",
      " \tfloat axx;\n",
      "\tfloat ayy;\n",
      " \tfloat axy;\n",
      "} LensQuantities;\n",
      "\n",
      "LensQuantities clMultiplePlummerLensProgram(float2 coord, __global const int *pIntParams, __global const float *pFloatParams)\n",
      "{\n",
      "\tLensQuantities r = { 0 } ;\n",
      "\n",
      "\tfloat potentialPrefactor = pFloatParams[0];\n",
      "\tfor (int i = 0 ; i < 2 ; i++)\n",
      "\t{\n",
      "\t\tint i4 = 1 + i*4;\n",
      "\t\tfloat scaledMass = pFloatParams[i4+0];\n",
      "\t\tfloat scaledWidth = pFloatParams[i4+1];\n",
      "\t\tfloat posx = pFloatParams[i4+2];\n",
      "\t\tfloat posy = pFloatParams[i4+3];\n",
      "\t\tfloat dx = coord.x-posx;\n",
      "\t\tfloat dy = coord.y-posy;\n",
      "\t\tfloat dx2 = dx*dx;\n",
      "\t\tfloat dy2 = dy*dy;\n",
      "\t\tfloat w2 = scaledWidth*scaledWidth;\n",
      "\t\tfloat denom = dx2+dy2+w2;\n",
      "\t\tfloat denom2 = denom*denom;\n",
      "\t\tfloat factor = scaledMass/denom;\n",
      "\t\tfloat factor2 = scaledMass/denom2;\n",
      "\t\n",
      "\t\tr.alphaX += factor*dx;\n",
      "\t\tr.alphaY += factor*dy;\n",
      "\t\tr.potential += potentialPrefactor*scaledMass*log(denom);\n",
      "\n",
      "\t\tr.axx += factor2*(-dx2+dy2+w2);\n",
      "\t\tr.ayy += factor2*(+dx2-dy2+w2);\n",
      "\t\tr.axy += factor2*(-2.0*dx*dy);\n",
      "\n",
      "\t}\n",
      "\treturn r;\n",
      "}\n",
      "\n",
      "__kernel void renderLensPlane(float2 startCoord, float2 step, int numX, int numY,\n",
      "                     __global const int *pIntParams,\n",
      "\t\t     __global const float *pFloatParams,\n",
      "                     __global float *pResults)\n",
      "{\n",
      "\tconst int i = get_global_id(0);\n",
      "\tconst int j = get_global_id(1);\n",
      "\n",
      "\tif (i >= numX || j >= numY)\n",
      "\t\treturn;\n",
      "\n",
      "\tfloat2 pos = { startCoord.x + step.x*((float)i), startCoord.y + step.y*((float)j) } ;\n",
      "\n",
      "\tLensQuantities r = clMultiplePlummerLensProgram(pos, pIntParams, pFloatParams);\n",
      "\n",
      "\tconst int offset = (i+j*numX)*5;\n",
      "\n",
      "\tpResults[offset+0] += r.alphaX;\n",
      "\tpResults[offset+1] += r.alphaY;\n",
      "\tpResults[offset+2] += r.axx;\n",
      "\tpResults[offset+3] += r.ayy;\n",
      "\tpResults[offset+4] += r.axy;\n",
      "}\n",
      "\n",
      "Writing result\n",
      "Finishing, waiting for exit command\n",
      "Renderer exiting as expected.\n"
     ]
    },
    {
     "name": "stdout",
     "output_type": "stream",
     "text": [
      "Ignoring exception when terminating program: Command '['pgrep', '-P', '22825']' returned non-zero exit status 1.\n"
     ]
    }
   ],
   "source": [
    "os.environ[\"GRALE_OPENCL_PLATFORM\"] = \"0\"\n",
    "os.environ[\"GRALE_EXPERIMENTAL_OPENCLPARAMS\"] = \"1\"\n",
    "lpNew = images.LensPlane(l, -V(10,10)*ANGLE_ARCSEC, V(10,10)*ANGLE_ARCSEC, 16, 16, \"OpenCL\")\n",
    "del os.environ[\"GRALE_EXPERIMENTAL_OPENCLPARAMS\"]\n",
    "lpOld = images.LensPlane(l, -V(10,10)*ANGLE_ARCSEC, V(10,10)*ANGLE_ARCSEC, 16, 16, \"OpenCL\")"
   ]
  },
  {
   "cell_type": "code",
   "execution_count": 141,
   "id": "ef1f803e",
   "metadata": {},
   "outputs": [
    {
     "data": {
      "text/plain": [
       "array([[ -394.2344794 ,  -380.846054  ,  -357.03055929,  -320.85074849,\n",
       "         -271.16007768,  -208.12392158,  -133.4891847 ,   -50.46155643,\n",
       "           36.67238953,   122.92800368,   203.04509659,   272.24050783,\n",
       "          327.23420383,   366.943498  ,   392.3622182 ,   405.79861559],\n",
       "       [ -447.65888683,  -438.88773095,  -417.63930145,  -380.6746997 ,\n",
       "         -325.71579805,  -252.47295946,  -163.21950534,   -62.45118447,\n",
       "           44.00546619,   149.51218809,   246.75526769,   328.6941903 ,\n",
       "          390.599575  ,   431.52089509,   453.86721961,   461.74748657],\n",
       "       [ -508.22137191,  -506.90925017,  -491.03291558,  -455.21034488,\n",
       "         -395.01439644,  -309.12089912,  -200.78235788,   -76.9654171 ,\n",
       "           54.19652281,   184.37969663,   303.71802631,   401.40491445,\n",
       "          470.19700903,   509.81094591,   525.51145844,   524.40476329],\n",
       "       [ -575.40200499,  -585.48618518,  -579.42492737,  -548.38804712,\n",
       "         -483.71662405,  -381.46161171,  -246.75276304,   -92.22087441,\n",
       "           69.81064741,   230.55669045,   378.07949664,   494.93471209,\n",
       "          569.19795945,   602.72703612,   606.39781797,   591.945976  ],\n",
       "       [ -647.19918553,  -673.6846844 ,  -684.13463404,  -664.64153685,\n",
       "         -598.25760875,  -473.77802957,  -299.12476534,  -101.25810443,\n",
       "           97.37284765,   292.23476106,   473.79445648,   612.62754183,\n",
       "          687.99540841,   707.59586716,   692.38337818,   660.15798415],\n",
       "       [ -719.18789298,  -767.3370069 ,  -803.20055461,  -806.95870595,\n",
       "         -746.94548428,  -592.26287088,  -350.64861576,   -85.16806211,\n",
       "          153.02390198,   375.69120943,   591.07846383,   750.26764565,\n",
       "          817.81003171,   813.96207394,   774.14731361,   721.84670517],\n",
       "       [ -783.74568158,  -856.72501273,  -926.45948826,  -969.71171421,\n",
       "         -934.84280668,  -745.46886783,  -387.75429034,    -8.01394148,\n",
       "          266.69534372,   489.63482336,   717.99486632,   883.01754057,\n",
       "          931.91981011,   900.62790665,   837.20533465,   767.67520262],\n",
       "       [ -830.50081   ,  -925.52252278, -1029.68174755, -1122.66110843,\n",
       "        -1138.15005684,  -927.5652357 ,  -396.13810517,   156.57385129,\n",
       "          452.12777265,   630.44617762,   822.72709229,   963.28238538,\n",
       "          990.88518467,   942.52518356,   866.99787671,   789.25609647],\n",
       "       [ -849.2009479 ,  -954.87875898, -1077.53098017, -1201.75783771,\n",
       "        -1258.9649917 , -1048.25353897,  -372.00783663,   327.31814352,\n",
       "          623.22352848,   743.27614655,   866.94471491,   961.38255043,\n",
       "          975.47764873,   928.70907191,   857.44906024,   783.12624278],\n",
       "       [ -834.47666297,  -933.81928403, -1046.15766423, -1153.47058433,\n",
       "        -1186.37674728,  -962.10199479,  -325.71351905,   334.62994474,\n",
       "          638.67529071,   751.64678376,   833.98620247,   893.38589722,\n",
       "          903.60929997,   870.23181115,   814.38077954,   752.2623866 ],\n",
       "       [ -789.09083456,  -867.64800313,  -946.57261092, -1002.09745109,\n",
       "         -972.06807275,  -743.9472579 ,  -272.43699891,   220.82977291,\n",
       "          516.20322394,   657.86561834,   739.92596016,   789.82914279,\n",
       "          804.50667421,   787.39435028,   750.112628  ,   703.84416926],\n",
       "       [ -722.53347624,  -774.37738056,  -814.67691515,  -820.10880582,\n",
       "         -747.90465317,  -547.58543026,  -222.75244306,   119.74368843,\n",
       "          372.37622355,   526.74054307,   619.89351469,   674.77991681,\n",
       "          698.6000598 ,   696.6078912 ,   676.40333746,   645.72920303],\n",
       "       [ -646.25716561,  -673.36819567,  -682.76555967,  -656.78139737,\n",
       "         -571.47258961,  -408.67639303,  -180.95196756,    60.17619328,\n",
       "          261.84274972,   406.64852749,   503.50653377,   564.51182327,\n",
       "          597.3511955 ,   607.73769396,   601.48946726,   584.2684279 ],\n",
       "       [ -569.55524467,  -577.68913585,  -567.07085554,  -526.29011187,\n",
       "         -443.50035221,  -313.64269854,  -147.45584624,    28.5744717 ,\n",
       "          186.73678851,   312.49100991,   404.6663775 ,   467.70774598,\n",
       "          506.6045852 ,   525.96216041,   530.26736384,   523.7859563 ],\n",
       "       [ -498.10537587,  -493.36400196,  -471.59428894,  -426.07334471,\n",
       "         -351.40971406,  -247.19714697,  -121.13314976,    12.08095053,\n",
       "          136.81619742,   242.65684472,   325.84482148,   386.98646784,\n",
       "          428.53417657,   453.54784264,   465.27074216,   466.87809694],\n",
       "       [ -434.47832498,  -421.78127378,  -394.72444349,  -349.56279271,\n",
       "         -284.07099457,  -199.2807626 ,  -100.52887839,     3.42488278,\n",
       "          103.16738259,   191.49143031,   264.57834868,   321.48108591,\n",
       "          363.03071261,   390.98086878,   407.50552463,   414.88747867]])"
      ]
     },
     "execution_count": 141,
     "metadata": {},
     "output_type": "execute_result"
    }
   ],
   "source": [
    "lpNew.getAlphas()[\"alpha_x\"]/ANGLE_ARCSEC"
   ]
  },
  {
   "cell_type": "code",
   "execution_count": 142,
   "id": "9c30e217",
   "metadata": {},
   "outputs": [
    {
     "data": {
      "text/plain": [
       "0.0"
      ]
     },
     "execution_count": 142,
     "metadata": {},
     "output_type": "execute_result"
    }
   ],
   "source": [
    "np.max(np.abs(lpNew.getAlphas()[\"alpha_x\"] - lpOld.getAlphas()[\"alpha_x\"]))"
   ]
  },
  {
   "cell_type": "code",
   "execution_count": 143,
   "id": "1f65e8b0",
   "metadata": {},
   "outputs": [
    {
     "data": {
      "text/plain": [
       "0.0"
      ]
     },
     "execution_count": 143,
     "metadata": {},
     "output_type": "execute_result"
    }
   ],
   "source": [
    "np.max(np.abs(lpNew.getAlphas()[\"alpha_y\"] - lpOld.getAlphas()[\"alpha_y\"]))"
   ]
  },
  {
   "cell_type": "code",
   "execution_count": 144,
   "id": "0c8dae77",
   "metadata": {},
   "outputs": [
    {
     "data": {
      "text/plain": [
       "0.0"
      ]
     },
     "execution_count": 144,
     "metadata": {},
     "output_type": "execute_result"
    }
   ],
   "source": [
    "np.max(np.abs(lpNew.getAlphaVectorDerivatives()[\"alpha_xx\"] \n",
    "            - lpOld.getAlphaVectorDerivatives()[\"alpha_xx\"]))"
   ]
  },
  {
   "cell_type": "code",
   "execution_count": 145,
   "id": "344e3cd0",
   "metadata": {},
   "outputs": [
    {
     "data": {
      "text/plain": [
       "0.0"
      ]
     },
     "execution_count": 145,
     "metadata": {},
     "output_type": "execute_result"
    }
   ],
   "source": [
    "np.max(np.abs(lpNew.getAlphaVectorDerivatives()[\"alpha_yy\"] \n",
    "            - lpOld.getAlphaVectorDerivatives()[\"alpha_yy\"]))"
   ]
  },
  {
   "cell_type": "code",
   "execution_count": 146,
   "id": "a0bdb392",
   "metadata": {},
   "outputs": [
    {
     "data": {
      "text/plain": [
       "0.0"
      ]
     },
     "execution_count": 146,
     "metadata": {},
     "output_type": "execute_result"
    }
   ],
   "source": [
    "np.max(np.abs(lpNew.getAlphaVectorDerivatives()[\"alpha_xy\"] \n",
    "            - lpOld.getAlphaVectorDerivatives()[\"alpha_xy\"]))"
   ]
  },
  {
   "cell_type": "code",
   "execution_count": 147,
   "id": "908439ca",
   "metadata": {},
   "outputs": [],
   "source": [
    "ipNew = images.ImagePlane(lpNew, Ds, Dds)\n",
    "ipOld = images.ImagePlane(lpOld, Ds, Dds)"
   ]
  },
  {
   "cell_type": "code",
   "execution_count": 148,
   "id": "d47b8069",
   "metadata": {},
   "outputs": [
    {
     "data": {
      "image/png": "[encoded data removed]",
      "text/plain": [
       "<Figure size 640x480 with 1 Axes>"
      ]
     },
     "metadata": {},
     "output_type": "display_data"
    }
   ],
   "source": [
    "def drawLines(ip : images.ImagePlane, color, lw):\n",
    "    lines = ip.getCriticalLines()\n",
    "    for part in lines:\n",
    "        part = np.array(part)/ANGLE_ARCSEC\n",
    "        plt.plot(part[:,0], part[:,1], \"-\", color=color, lw=lw)\n",
    "        \n",
    "drawLines(ipNew, \"red\", 4)\n",
    "drawLines(ipOld, \"blue\", 1)\n",
    "plt.gca().set_aspect(\"equal\")"
   ]
  },
  {
   "cell_type": "code",
   "execution_count": 149,
   "id": "bb5d96e8",
   "metadata": {},
   "outputs": [],
   "source": [
    "potRend = OpenCLPotentialRenderer()"
   ]
  },
  {
   "cell_type": "code",
   "execution_count": 150,
   "id": "8f5b9ba2",
   "metadata": {},
   "outputs": [],
   "source": [
    "def getPotentialValues(l : lenses.GravitationalLens, bl, tr, numX, numY, useOpenCL):\n",
    "    if not useOpenCL:\n",
    "        thetas = util.createThetaGrid(bl, tr, numX, numY)\n",
    "        phi = l.getProjectedPotential(1,1,thetas)\n",
    "        phi -= np.min(phi)\n",
    "        return phi\n",
    "    \n",
    "    b = potRend.render(l.toBytes(), bl, tr, numX, numY)\n",
    "    buf = np.frombuffer(b, dtype=np.float64).copy()\n",
    "    buf -= np.min(buf)\n",
    "    buf = buf.reshape((numY, numY))\n",
    "    return buf"
   ]
  },
  {
   "cell_type": "code",
   "execution_count": 151,
   "id": "2e3039bb",
   "metadata": {
    "scrolled": false
   },
   "outputs": [
    {
     "name": "stderr",
     "output_type": "stream",
     "text": [
      "INFO: Found 1 GPU devices\n",
      "INFO: GPU Devices:\n",
      "   0x5589552ba7f0: Quadro K620\n",
      "OpenCL initialized\n",
      "Reading lens of 96 bytes\n",
      "Reading rendering type (grid/separate input points)\n",
      "Reading corner info and resolution\n",
      "Rendering 16x16 from (-4.84814e-05,-4.84814e-05) - (4.84814e-05,4.84814e-05)\n",
      "typedef struct\n",
      "{\n",
      " \tfloat alphaX;\n",
      " \tfloat alphaY;\n",
      "\tfloat potential;\n",
      " \tfloat axx;\n",
      "\tfloat ayy;\n",
      " \tfloat axy;\n",
      "} LensQuantities;\n",
      "\n",
      "LensQuantities clMultiplePlummerLensProgram(float2 coord, __global const int *pIntParams, __global const float *pFloatParams)\n",
      "{\n",
      "\tLensQuantities r = { 0 } ;\n",
      "\n",
      "\tfloat potentialPrefactor = pFloatParams[0];\n",
      "\tfor (int i = 0 ; i < 2 ; i++)\n",
      "\t{\n",
      "\t\tint i4 = 1 + i*4;\n",
      "\t\tfloat scaledMass = pFloatParams[i4+0];\n",
      "\t\tfloat scaledWidth = pFloatParams[i4+1];\n",
      "\t\tfloat posx = pFloatParams[i4+2];\n",
      "\t\tfloat posy = pFloatParams[i4+3];\n",
      "\t\tfloat dx = coord.x-posx;\n",
      "\t\tfloat dy = coord.y-posy;\n",
      "\t\tfloat dx2 = dx*dx;\n",
      "\t\tfloat dy2 = dy*dy;\n",
      "\t\tfloat w2 = scaledWidth*scaledWidth;\n",
      "\t\tfloat denom = dx2+dy2+w2;\n",
      "\t\tfloat denom2 = denom*denom;\n",
      "\t\tfloat factor = scaledMass/denom;\n",
      "\t\tfloat factor2 = scaledMass/denom2;\n",
      "\t\n",
      "\t\tr.alphaX += factor*dx;\n",
      "\t\tr.alphaY += factor*dy;\n",
      "\t\tr.potential += potentialPrefactor*scaledMass*log(denom);\n",
      "\n",
      "\t\tr.axx += factor2*(-dx2+dy2+w2);\n",
      "\t\tr.ayy += factor2*(+dx2-dy2+w2);\n",
      "\t\tr.axy += factor2*(-2.0*dx*dy);\n",
      "\n",
      "\t}\n",
      "\treturn r;\n",
      "}\n",
      "\n",
      "__kernel void renderPotential(float2 startCoord, float2 step, int numX, int numY,\n",
      "                     __global const int *pIntParams,\n",
      "\t\t     __global const float *pFloatParams,\n",
      "                     __global float *pResults)\n",
      "{\n",
      "\tconst int i = get_global_id(0);\n",
      "\tconst int j = get_global_id(1);\n",
      "\n",
      "\tif (i >= numX || j >= numY)\n",
      "\t\treturn;\n",
      "\n",
      "\tfloat2 pos = { startCoord.x + step.x*((float)i), startCoord.y + step.y*((float)j) } ;\n",
      "\n",
      "\tLensQuantities r = clMultiplePlummerLensProgram(pos, pIntParams, pFloatParams);\n",
      "\n",
      "\tpResults[i+j*numX] = r.potential;\n",
      "}\n",
      "\n",
      "Writing result\n",
      "Finishing, waiting for exit command\n",
      "Renderer exiting as expected.\n"
     ]
    },
    {
     "name": "stdout",
     "output_type": "stream",
     "text": [
      "Ignoring exception when terminating program: Command '['pgrep', '-P', '22856']' returned non-zero exit status 1.\n"
     ]
    },
    {
     "name": "stderr",
     "output_type": "stream",
     "text": [
      "INFO: Found 1 GPU devices\n",
      "INFO: GPU Devices:\n",
      "   0x5559bb5f67f0: Quadro K620\n",
      "OpenCL initialized\n",
      "Reading lens of 96 bytes\n",
      "Reading rendering type (grid/separate input points)\n",
      "Reading corner info and resolution\n",
      "Rendering 16x16 from (-4.84814e-05,-4.84814e-05) - (4.84814e-05,4.84814e-05)\n",
      "typedef struct\n",
      "{\n",
      " \tfloat alphaX;\n",
      " \tfloat alphaY;\n",
      "\tfloat potential;\n",
      " \tfloat axx;\n",
      "\tfloat ayy;\n",
      " \tfloat axy;\n",
      "} LensQuantities;\n",
      "\n",
      "LensQuantities clMultiplePlummerLensProgram(float2 coord, __global const int *pIntParams, __global const float *pFloatParams)\n",
      "{\n",
      "\tLensQuantities r = { 0 } ;\n",
      "\n",
      "\tfloat potentialPrefactor = pFloatParams[0];\n",
      "\tfor (int i = 0 ; i < 2 ; i++)\n",
      "\t{\n",
      "\t\tint i4 = 1 + i*4;\n",
      "\t\tfloat scaledMass = pFloatParams[i4+0];\n",
      "\t\tfloat scaledWidth = pFloatParams[i4+1];\n",
      "\t\tfloat posx = pFloatParams[i4+2];\n",
      "\t\tfloat posy = pFloatParams[i4+3];\n",
      "\t\tfloat dx = coord.x-posx;\n",
      "\t\tfloat dy = coord.y-posy;\n",
      "\t\tfloat dx2 = dx*dx;\n",
      "\t\tfloat dy2 = dy*dy;\n",
      "\t\tfloat w2 = scaledWidth*scaledWidth;\n",
      "\t\tfloat denom = dx2+dy2+w2;\n",
      "\t\tfloat denom2 = denom*denom;\n",
      "\t\tfloat factor = scaledMass/denom;\n",
      "\t\tfloat factor2 = scaledMass/denom2;\n",
      "\t\n",
      "\t\tr.alphaX += factor*dx;\n",
      "\t\tr.alphaY += factor*dy;\n",
      "\t\tr.potential += potentialPrefactor*scaledMass*log(denom);\n",
      "\n",
      "\t\tr.axx += factor2*(-dx2+dy2+w2);\n",
      "\t\tr.ayy += factor2*(+dx2-dy2+w2);\n",
      "\t\tr.axy += factor2*(-2.0*dx*dy);\n",
      "\n",
      "\t}\n",
      "\treturn r;\n",
      "}\n",
      "\n",
      "__kernel void renderPotential(float2 startCoord, float2 step, int numX, int numY,\n",
      "                     __global const int *pIntParams,\n",
      "\t\t     __global const float *pFloatParams,\n",
      "                     __global float *pResults)\n",
      "{\n",
      "\tconst int i = get_global_id(0);\n",
      "\tconst int j = get_global_id(1);\n",
      "\n",
      "\tif (i >= numX || j >= numY)\n",
      "\t\treturn;\n",
      "\n",
      "\tfloat2 pos = { startCoord.x + step.x*((float)i), startCoord.y + step.y*((float)j) } ;\n",
      "\n",
      "\tLensQuantities r = clMultiplePlummerLensProgram(pos, pIntParams, pFloatParams);\n",
      "\n",
      "\tpResults[i+j*numX] = r.potential;\n",
      "}\n",
      "\n",
      "Writing result\n",
      "Finishing, waiting for exit command\n",
      "Renderer exiting as expected.\n"
     ]
    },
    {
     "name": "stdout",
     "output_type": "stream",
     "text": [
      "Ignoring exception when terminating program: Command '['pgrep', '-P', '22872']' returned non-zero exit status 1.\n"
     ]
    }
   ],
   "source": [
    "os.environ[\"GRALE_EXPERIMENTAL_OPENCLPARAMS\"] = \"1\"\n",
    "phiOclNew = getPotentialValues(l, -V(10,10)*ANGLE_ARCSEC, V(10,10)*ANGLE_ARCSEC, 16, 16, True)\n",
    "del os.environ[\"GRALE_EXPERIMENTAL_OPENCLPARAMS\"]\n",
    "phiOclOld = getPotentialValues(l, -V(10,10)*ANGLE_ARCSEC, V(10,10)*ANGLE_ARCSEC, 16, 16, True)\n",
    "phiCPU = getPotentialValues(l, -V(10,10)*ANGLE_ARCSEC, V(10,10)*ANGLE_ARCSEC, 16, 16, False)"
   ]
  },
  {
   "cell_type": "code",
   "execution_count": 152,
   "id": "7025f7d4",
   "metadata": {},
   "outputs": [
    {
     "data": {
      "text/plain": [
       "0.0"
      ]
     },
     "execution_count": 152,
     "metadata": {},
     "output_type": "execute_result"
    }
   ],
   "source": [
    "np.max(np.abs(phiOclNew - phiOclOld))"
   ]
  },
  {
   "cell_type": "code",
   "execution_count": 153,
   "id": "9e7b8136",
   "metadata": {},
   "outputs": [
    {
     "data": {
      "text/plain": [
       "8.554185702557444e-14"
      ]
     },
     "execution_count": 153,
     "metadata": {},
     "output_type": "execute_result"
    }
   ],
   "source": [
    "np.max(np.abs(phiCPU - phiOclNew))"
   ]
  },
  {
   "cell_type": "code",
   "execution_count": 154,
   "id": "77b671c2",
   "metadata": {},
   "outputs": [
    {
     "data": {
      "text/plain": [
       "array([[1.16548565e+04, 1.11371000e+04, 1.06439055e+04, 1.01905239e+04,\n",
       "        9.79432908e+03, 9.47338657e+03, 9.24450739e+03, 9.12116258e+03,\n",
       "        9.11177900e+03, 9.21856906e+03, 9.43685166e+03, 9.75514610e+03,\n",
       "        1.01564812e+04, 1.06209452e+04, 1.11286261e+04, 1.16619112e+04],\n",
       "       [1.10761718e+04, 1.04839435e+04, 9.91135054e+03, 9.37723792e+03,\n",
       "        8.90424460e+03, 8.51682897e+03, 8.23813394e+03, 8.08671313e+03,\n",
       "        8.07413690e+03, 8.20365130e+03, 8.46916147e+03, 8.85482595e+03,\n",
       "        9.33671596e+03, 9.88704804e+03, 1.04791578e+04, 1.10909306e+04],\n",
       "       [1.05026648e+04, 9.82458335e+03, 9.15736862e+03, 8.52403857e+03,\n",
       "        7.95435418e+03, 7.48215955e+03, 7.14006660e+03, 6.95363352e+03,\n",
       "        6.93808675e+03, 7.09775077e+03, 7.42496966e+03, 7.89798647e+03,\n",
       "        8.48242748e+03, 9.13879151e+03, 9.83126974e+03, 1.05327002e+04],\n",
       "       [9.94794738e+03, 9.17265912e+03, 8.39379382e+03, 7.63862239e+03,\n",
       "        6.94644314e+03, 6.36556208e+03, 5.94376418e+03, 5.71635213e+03,\n",
       "        5.70109580e+03, 5.90199506e+03, 6.31015323e+03, 6.89648847e+03,\n",
       "        7.61081546e+03, 8.39610875e+03, 9.20481402e+03, 1.00051672e+04],\n",
       "       [9.43111559e+03, 8.54933838e+03, 7.64167195e+03, 6.73822964e+03,\n",
       "        5.89020685e+03, 5.16900127e+03, 4.64944025e+03, 4.38156816e+03,\n",
       "        4.37940059e+03, 4.63964237e+03, 5.15319396e+03, 5.88394116e+03,\n",
       "        6.75815427e+03, 7.69362549e+03, 8.62967758e+03, 9.53253262e+03],\n",
       "       [8.97750661e+03, 7.98583639e+03, 6.93659187e+03, 5.85803914e+03,\n",
       "        4.81299310e+03, 3.90884392e+03, 3.27330359e+03, 2.98418924e+03,\n",
       "        3.03282628e+03, 3.38541970e+03, 4.03263933e+03, 4.93632937e+03,\n",
       "        5.99159612e+03, 7.08527492e+03, 8.14640374e+03, 9.14430335e+03],\n",
       "       [8.61799615e+03, 7.52464622e+03, 6.33463299e+03, 5.06542520e+03,\n",
       "        3.78293005e+03, 2.64191690e+03, 1.87297975e+03, 1.61739559e+03,\n",
       "        1.80134930e+03, 2.30566039e+03, 3.11208703e+03, 4.19161144e+03,\n",
       "        5.41354466e+03, 6.64108156e+03, 7.80132530e+03, 8.87114579e+03],\n",
       "       [8.38529008e+03, 7.21601512e+03, 5.91296108e+03, 4.47453271e+03,\n",
       "        2.95221372e+03, 1.53975144e+03, 6.29295996e+02, 4.92514338e+02,\n",
       "        9.24041782e+02, 1.64713092e+03, 2.61527384e+03, 3.81757073e+03,\n",
       "        5.13198800e+03, 6.42620089e+03, 7.63372773e+03, 8.73743932e+03],\n",
       "       [8.30648206e+03, 7.10580819e+03, 5.75241722e+03, 4.23101438e+03,\n",
       "        2.57545019e+03, 9.90918510e+02, 0.00000000e+00, 8.89881605e+00,\n",
       "        6.80247964e+02, 1.59536103e+03, 2.66762459e+03, 3.89415137e+03,\n",
       "        5.19425195e+03, 6.46823909e+03, 7.66020421e+03, 8.75359898e+03],\n",
       "       [8.39401378e+03, 7.21686720e+03, 5.89785851e+03, 4.42866975e+03,\n",
       "        2.85316714e+03, 1.37813980e+03, 4.81738378e+02, 5.20079953e+02,\n",
       "        1.20462677e+03, 2.13997626e+03, 3.19800641e+03, 4.35407516e+03,\n",
       "        5.55786693e+03, 6.74411306e+03, 7.86860564e+03, 8.91313701e+03],\n",
       "       [8.64032114e+03, 7.53646433e+03, 6.32620826e+03, 5.02211421e+03,\n",
       "        3.69102047e+03, 2.51846958e+03, 1.82063113e+03, 1.80159702e+03,\n",
       "        2.31628899e+03, 3.10961193e+03, 4.04536077e+03, 5.06886983e+03,\n",
       "        6.13573900e+03, 7.19996009e+03, 8.22651444e+03, 9.19633163e+03],\n",
       "       [9.02030507e+03, 8.02185022e+03, 6.96024517e+03, 5.86456323e+03,\n",
       "        4.80756882e+03, 3.92784600e+03, 3.40462466e+03, 3.34169229e+03,\n",
       "        3.68211524e+03, 4.29041029e+03, 5.05988773e+03, 5.92670118e+03,\n",
       "        6.84549806e+03, 7.77811619e+03, 8.69502526e+03, 9.57723598e+03],\n",
       "       [9.49988014e+03, 8.61886959e+03, 7.71199331e+03, 6.81377241e+03,\n",
       "        5.98699616e+03, 5.32476151e+03, 4.92674077e+03, 4.84819756e+03,\n",
       "        5.06903000e+03, 5.52076824e+03, 6.13210858e+03, 6.84759944e+03,\n",
       "        7.62498267e+03, 8.43055082e+03, 9.23822248e+03, 1.00296619e+04],\n",
       "       [1.00449887e+04, 9.27860991e+03, 8.51276930e+03, 7.77980755e+03,\n",
       "        7.12809473e+03, 6.61831238e+03, 6.30812874e+03, 6.22948943e+03,\n",
       "        6.37615652e+03, 6.71283587e+03, 7.19446534e+03, 7.77900031e+03,\n",
       "        8.43096298e+03, 9.12126082e+03, 9.82684062e+03, 1.05305230e+04],\n",
       "       [1.06271083e+04, 9.96459395e+03, 9.31902510e+03, 8.71758088e+03,\n",
       "        8.19585656e+03, 7.79375052e+03, 7.54648858e+03, 7.47392062e+03,\n",
       "        7.57484861e+03, 7.83025980e+03, 8.21180267e+03, 8.68935538e+03,\n",
       "        9.23504906e+03, 9.82476273e+03, 1.04386049e+04, 1.10609934e+04],\n",
       "       [1.12249211e+04, 1.06527093e+04, 1.01065543e+04, 9.60818003e+03,\n",
       "        9.18347138e+03, 8.85929992e+03, 8.65831737e+03, 8.59354416e+03,\n",
       "        8.66553979e+03, 8.86353044e+03, 9.16937038e+03, 9.56185365e+03,\n",
       "        1.00198170e+04, 1.05238857e+04, 1.10573513e+04, 1.16065056e+04]])"
      ]
     },
     "execution_count": 154,
     "metadata": {},
     "output_type": "execute_result"
    }
   ],
   "source": [
    "phiOclNew/ANGLE_ARCSEC**2"
   ]
  },
  {
   "cell_type": "code",
   "execution_count": null,
   "id": "94d30002",
   "metadata": {},
   "outputs": [],
   "source": []
  },
  {
   "cell_type": "code",
   "execution_count": null,
   "id": "56998b81",
   "metadata": {},
   "outputs": [],
   "source": []
  }
 ],
 "metadata": {
  "kernelspec": {
   "display_name": "Python 3 (ipykernel)",
   "language": "python",
   "name": "python3"
  },
  "language_info": {
   "codemirror_mode": {
    "name": "ipython",
    "version": 3
   },
   "file_extension": ".py",
   "mimetype": "text/x-python",
   "name": "python",
   "nbconvert_exporter": "python",
   "pygments_lexer": "ipython3",
   "version": "3.12.1"
  }
 },
 "nbformat": 4,
 "nbformat_minor": 5
}
