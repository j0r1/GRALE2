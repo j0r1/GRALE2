{
 "cells": [
  {
   "cell_type": "code",
   "execution_count": 1,
   "id": "827075a0",
   "metadata": {},
   "outputs": [
    {
     "name": "stdout",
     "output_type": "stream",
     "text": [
      "Set 'threads' as default renderer for lensplane and mass density\n",
      "Set default angular unit in plotting to arcsec\n",
      "Set feedback style to 'notebook'\n"
     ]
    }
   ],
   "source": [
    "%matplotlib inline\n",
    "from grale.all_nb import *\n",
    "import matplotlib.pyplot as plt\n",
    "import numpy as np\n",
    "import os\n",
    "import pprint\n",
    "\n",
    "renderers.debugDirectStderr = True\n",
    "renderers.debugOutput = True"
   ]
  },
  {
   "cell_type": "code",
   "execution_count": 2,
   "id": "4f4a5363",
   "metadata": {},
   "outputs": [],
   "source": [
    "class OpenCLPotentialRenderer(renderers.Renderer):\n",
    "    \n",
    "    def __init__(self, feedbackObject = None):\n",
    "        super(OpenCLPotentialRenderer, self).__init__([ \"grale_potential_opencl\" ], \"LENSPLANE\", feedbackObject = feedbackObject)"
   ]
  },
  {
   "cell_type": "code",
   "execution_count": 6,
   "id": "95d6f7c3",
   "metadata": {},
   "outputs": [],
   "source": [
    "Dd = 1000*DIST_MPC\n",
    "Ds = 1300*DIST_MPC\n",
    "Dds = 900*DIST_MPC\n",
    "\n",
    "#l = lenses.PlummerLens(Dd, { \"mass\": 1e15*MASS_SUN, \"width\": 5*ANGLE_ARCSEC})\n",
    "#l = lenses.MassSheetLens(Dd, { \"Ds\": Ds, \"Dds\": Dds })\n",
    "#l = lenses.MultiplePlummerLens(Dd, [\n",
    "#    { \"mass\": 0.7e15*MASS_SUN, \"width\":3*ANGLE_ARCSEC, \"x\": -2*ANGLE_ARCSEC, \"y\": 1*ANGLE_ARCSEC },\n",
    "#    { \"mass\": 0.4e15*MASS_SUN, \"width\":4*ANGLE_ARCSEC, \"x\": 3*ANGLE_ARCSEC, \"y\": -1*ANGLE_ARCSEC },\n",
    "#])\n",
    "\n",
    "#l = lenses.NSIELens(Dd, { \"velocityDispersion\": 400000, \"ellipticity\": 0.8, \"coreRadius\": 1*ANGLE_ARCSEC})\n",
    "#l = lenses.SISLens(Dd, { \"velocityDispersion\": 400000 })\n",
    "\n",
    "l = lenses.CompositeLens(Dd, [\n",
    "    {\"lens\": lenses.PlummerLens(Dd, { \"mass\": 0.7e15*MASS_SUN, \"width\":3*ANGLE_ARCSEC}),\n",
    "      \"x\": -2*ANGLE_ARCSEC, \"y\": 1*ANGLE_ARCSEC, \"angle\": 10, \"factor\": 1.1},\n",
    "    {\"lens\": lenses.PlummerLens(Dd, { \"mass\": 0.4e15*MASS_SUN, \"width\":4*ANGLE_ARCSEC}),\n",
    "      \"x\": 3*ANGLE_ARCSEC, \"y\": -1*ANGLE_ARCSEC, \"angle\":30, \"factor\": 0.9}\n",
    "])"
   ]
  },
  {
   "cell_type": "code",
   "execution_count": 7,
   "id": "7dd4217e",
   "metadata": {},
   "outputs": [
    {
     "name": "stdout",
     "output_type": "stream",
     "text": [
      "Integers\n",
      "[2 2 0 2 2 0 2]\n",
      "Floats\n",
      "[-2.0000000e+00  1.0000000e+00  1.7453292e-01  1.1000000e+00\n",
      "  5.6999888e+03  3.0000000e+00  3.0000000e+00 -1.0000000e+00\n",
      "  5.2359879e-01  8.9999998e-01  3.2571362e+03  4.0000000e+00]\n"
     ]
    }
   ],
   "source": [
    "deflScale = ANGLE_ARCSEC\n",
    "potScale = ANGLE_ARCSEC*ANGLE_ARCSEC/3\n",
    "\n",
    "intParams, floatParams = l.getCLParameters(deflScale, potScale)\n",
    "\n",
    "print(\"Integers\")\n",
    "print(intParams)\n",
    "print(\"Floats\")\n",
    "print(floatParams)"
   ]
  },
  {
   "cell_type": "code",
   "execution_count": 8,
   "id": "06981c24",
   "metadata": {},
   "outputs": [
    {
     "name": "stdout",
     "output_type": "stream",
     "text": [
      "<grale.lenses.CompositeLens object at 0x7f82d73a3db0>\n",
      "[{'angle': 10.0,\n",
      "  'factor': 1.1,\n",
      "  'lens': <grale.lenses.PlummerLens object at 0x7f82d6a1a8d0>,\n",
      "  'x': -9.69627362219072e-06,\n",
      "  'y': 4.84813681109536e-06},\n",
      " {'angle': 30.0,\n",
      "  'factor': 0.9,\n",
      "  'lens': <grale.lenses.PlummerLens object at 0x7f82d6a19350>,\n",
      "  'x': 1.454441043328608e-05,\n",
      "  'y': -4.84813681109536e-06}]\n",
      "[{'angle': 9.99999970909292,\n",
      "  'factor': 1.100000023841858,\n",
      "  'lens': <grale.lenses.PlummerLens object at 0x7f82d6a1a8d0>,\n",
      "  'x': -9.69627362219072e-06,\n",
      "  'y': 4.84813681109536e-06},\n",
      " {'angle': 30.000000834826057,\n",
      "  'factor': 0.8999999761581421,\n",
      "  'lens': <grale.lenses.PlummerLens object at 0x7f82d6a1aaf0>,\n",
      "  'x': 1.454441043328608e-05,\n",
      "  'y': -4.84813681109536e-06}]\n"
     ]
    }
   ],
   "source": [
    "#floatBad = np.array([], dtype=np.float32)\n",
    "\n",
    "newLens = l.createLensFromCLFloatParams(deflScale, potScale, floatParams)\n",
    "print(newLens)\n",
    "pprint.pprint(l.getLensParameters())\n",
    "pprint.pprint(newLens.getLensParameters())"
   ]
  },
  {
   "cell_type": "code",
   "execution_count": 9,
   "id": "4f51e5ea",
   "metadata": {},
   "outputs": [],
   "source": [
    "#pprint.pprint(l.getLensParameters()[0][\"lens\"].getLensParameters())\n",
    "#pprint.pprint(newLens.getLensParameters()[0][\"lens\"].getLensParameters())"
   ]
  },
  {
   "cell_type": "code",
   "execution_count": 10,
   "id": "00428c19",
   "metadata": {},
   "outputs": [],
   "source": [
    "#pprint.pprint(l.getLensParameters()[1][\"lens\"].getLensParameters())\n",
    "#pprint.pprint(newLens.getLensParameters()[1][\"lens\"].getLensParameters())"
   ]
  },
  {
   "cell_type": "code",
   "execution_count": 11,
   "id": "39402c8c",
   "metadata": {},
   "outputs": [
    {
     "data": {
      "text/plain": [
       "[{'name': 'x_0_scaled', 'offset': 0, 'hard_min': -inf, 'hard_max': inf},\n",
       " {'name': 'y_0_scaled', 'offset': 1, 'hard_min': -inf, 'hard_max': inf},\n",
       " {'name': 'angle_0', 'offset': 2, 'hard_min': -inf, 'hard_max': inf},\n",
       " {'name': 'factor_0', 'offset': 3, 'hard_min': 0.0, 'hard_max': inf},\n",
       " {'name': 'lens_0,mass_scaled', 'offset': 4, 'hard_min': 0.0, 'hard_max': inf},\n",
       " {'name': 'lens_0,width_scaled',\n",
       "  'offset': 5,\n",
       "  'hard_min': 0.0,\n",
       "  'hard_max': inf},\n",
       " {'name': 'x_1_scaled', 'offset': 6, 'hard_min': -inf, 'hard_max': inf},\n",
       " {'name': 'y_1_scaled', 'offset': 7, 'hard_min': -inf, 'hard_max': inf},\n",
       " {'name': 'angle_1', 'offset': 8, 'hard_min': -inf, 'hard_max': inf},\n",
       " {'name': 'factor_1', 'offset': 9, 'hard_min': 0.0, 'hard_max': inf},\n",
       " {'name': 'lens_1,mass_scaled',\n",
       "  'offset': 10,\n",
       "  'hard_min': 0.0,\n",
       "  'hard_max': inf},\n",
       " {'name': 'lens_1,width_scaled',\n",
       "  'offset': 11,\n",
       "  'hard_min': 0.0,\n",
       "  'hard_max': inf}]"
      ]
     },
     "execution_count": 11,
     "metadata": {},
     "output_type": "execute_result"
    }
   ],
   "source": [
    "l.getCLAdjustableFloatingPointParameterInfo()"
   ]
  },
  {
   "cell_type": "code",
   "execution_count": null,
   "id": "28174e62",
   "metadata": {},
   "outputs": [],
   "source": []
  }
 ],
 "metadata": {
  "kernelspec": {
   "display_name": "Python 3 (ipykernel)",
   "language": "python",
   "name": "python3"
  },
  "language_info": {
   "codemirror_mode": {
    "name": "ipython",
    "version": 3
   },
   "file_extension": ".py",
   "mimetype": "text/x-python",
   "name": "python",
   "nbconvert_exporter": "python",
   "pygments_lexer": "ipython3",
   "version": "3.12.1"
  }
 },
 "nbformat": 4,
 "nbformat_minor": 5
}
