{
 "cells": [
  {
   "cell_type": "markdown",
   "metadata": {},
   "source": [
    "This is some pseudocode to illustrate the reasoning in [bayesianweaklensing.ipynb](bayesianweaklensing.ipynb))"
   ]
  },
  {
   "cell_type": "code",
   "execution_count": 5,
   "metadata": {},
   "outputs": [],
   "source": [
    "def getBProb(b):\n",
    "    # TODO: return probability for b (actually b/a fraction)\n",
    "    return 1\n",
    "    \n",
    "def getSourceEllipticityProb(E1, E2):\n",
    "    E = (E1**2+E2**2)**0.5\n",
    "    b = (1-E)/(1+E)\n",
    "    return 1/(math.pi * E * (E+1)**2) * getBProb(b)\n",
    "\n",
    "def getRealImageEllipticityProb(e_img1, e_img2, g_1, g_2):\n",
    "    if g_1**2 + g_2**2 <= 1:\n",
    "        jacobian = (g_1**2 + g_2**2 - 1)**2/(e_img1**2*g_1**2 + e_img1**2*g_2**2 - 2*e_img1*g_1 + e_img2**2*g_1**2 + e_img2**2*g_2**2 - 2*e_img2*g_2 + 1)**2\n",
    "        E1 = (-(e_img1 - g_1)*(e_img1*g_1 + e_img2*g_2 - 1) + (e_img2 - g_2)*(e_img1*g_2 - e_img2*g_1))/((e_img1*g_2 - e_img2*g_1)**2 + (e_img1*g_1 + e_img2*g_2 - 1)**2)\n",
    "        E2 = -((e_img1 - g_1)*(e_img1*g_2 - e_img2*g_1) + (e_img2 - g_2)*(e_img1*g_1 + e_img2*g_2 - 1))/((e_img1*g_2 - e_img2*g_1)**2 + (e_img1*g_1 + e_img2*g_2 - 1)**2)        \n",
    "    else:\n",
    "        jacobian = (g_1**2 + g_2**2 - 1)**2/(e_img1**2 - 2*e_img1*g_1 + e_img2**2 - 2*e_img2*g_2 + g_1**2 + g_2**2)**2\n",
    "        E1 = (-(e_img1 - g_1)*(e_img1*g_1 + e_img2*g_2 - 1) + (e_img2 - g_2)*(e_img1*g_2 - e_img2*g_1))/((e_img1 - g_1)**2 + (e_img2 - g_2)**2)\n",
    "        E2 = -((e_img1 - g_1)*(e_img1*g_2 - e_img2*g_1) + (e_img2 - g_2)*(e_img1*g_1 + e_img2*g_2 - 1))/((e_img1 - g_1)**2 + (e_img2 - g_2)**2)\n",
    "\n",
    "    return jacobian * getSourceEllipticityProb(E1, E2)\n",
    "\n",
    "def getEllSamples(e, sigma):\n",
    "    # This samples the gaussian at -3 sigma, -2 sigma, ... 3 sigma\n",
    "    # Just as an illustration, these are the settings I'm using for testing now\n",
    "    samplesAndWeights = [ ]\n",
    "    for k in range(-3, 4):\n",
    "        sample = e + k*sigma\n",
    "        weight = math.exp(-0.5*((e-sample)/sigma)**2)\n",
    "        samplesAndWeights.append([sample, weight])\n",
    "    \n",
    "    return samplesAndWeights\n",
    "\n",
    "def getObservedImageEllipticityProb(e_obs1, e_obs2, sigma1, sigma2, g_1, g2):\n",
    "    if sigma1 == 0 and sigma2 == 0:\n",
    "        return getRealImageEllipticityProb(e_obs1, e_obs2, g_1, g_2)\n",
    "    \n",
    "    # Not zero, need to do that double integral, which we'll approximate using a double sum\n",
    "    \n",
    "    e1SamplesAndWeights = getEllSamples(e_obs1, sigma1)\n",
    "    e2SamplesAndWeights = getEllSamples(e_obs2, sigma2)\n",
    "    \n",
    "    weightSum = 0\n",
    "    probSum = 0\n",
    "    for e_samp1, w1 in e1Samples:\n",
    "        for e_samp2, w2 in e2Samples:\n",
    "            probSum += w1*w2 * getRealImageEllipticityProb(e_samp1, e_samp2, g_1, g_2)\n",
    "            weightSum += w1*w2\n",
    "            \n",
    "    return probSum/weightSum\n",
    "            \n",
    "def getObservedImageEllipticityProbForRedshift(e_obs1, e_obs2, sigma1, sigma2, z_obs, z_uncert):\n",
    "    \n",
    "    if z_obs != 0 and z_uncert == 0: # Redshift is known exactly\n",
    "        g_1, g_2 = calculateReducedShearAtRedshift(z_obs)\n",
    "        return getObservedImageEllipticityProb(e_obs1, e_obs2, sigma1, sigma2, g_1, g_2)\n",
    "    \n",
    "    # Unknown z, approximate the integral with a sum (in the code)\n",
    "    weigthSum = 0\n",
    "    probSum = 0\n",
    "    \n",
    "    # The getZValuesAndProbabilities function returns a list of (z, prob) tuples. Depending\n",
    "    # on z_obs and z_uncert this can be either for a completely unknown redshift, or based\n",
    "    # on a redshift known with a specific uncertainty\n",
    "    \n",
    "    for z, zprob in getZValuesAndProbabilities(z_lens, z_obs, z_uncert):\n",
    "        g_1, g_2 = calculateReducedShearAtRedshift(z)\n",
    "        \n",
    "        probSum += weight * getObservedImageEllipticityProb(e_obs1, e_obs2, sigma1, sigma2, g_1, g_2)\n",
    "        weightSum += weight\n",
    "        \n",
    "    return probSum/weight\n",
    "        "
   ]
  },
  {
   "cell_type": "code",
   "execution_count": null,
   "metadata": {},
   "outputs": [],
   "source": []
  }
 ],
 "metadata": {
  "kernelspec": {
   "display_name": "Python 3",
   "language": "python",
   "name": "python3"
  },
  "language_info": {
   "codemirror_mode": {
    "name": "ipython",
    "version": 3
   },
   "file_extension": ".py",
   "mimetype": "text/x-python",
   "name": "python",
   "nbconvert_exporter": "python",
   "pygments_lexer": "ipython3",
   "version": "3.7.3"
  }
 },
 "nbformat": 4,
 "nbformat_minor": 2
}
