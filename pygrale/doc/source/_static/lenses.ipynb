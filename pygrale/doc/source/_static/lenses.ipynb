{
 "cells": [
  {
   "cell_type": "code",
   "execution_count": 6,
   "metadata": {
    "collapsed": true
   },
   "outputs": [],
   "source": [
    "%matplotlib inline\n",
    "import grale.lenses as lenses\n",
    "import grale.plotutil as plotutil\n",
    "import grale.feedback as feedback\n",
    "from grale.cosmology import Cosmology\n",
    "from grale.constants import *\n",
    "import numpy as np\n",
    "import matplotlib.pyplot as plt"
   ]
  },
  {
   "cell_type": "code",
   "execution_count": 7,
   "metadata": {
    "collapsed": true
   },
   "outputs": [],
   "source": [
    "V = lambda x, y: np.array([x,y], dtype=\"double\")\n",
    "\n",
    "feedback.setDefaultFeedback(\"notebook\")\n",
    "cosm = Cosmology(0.7,0.3,0,0.7)\n",
    "\n",
    "zd = 0.5\n",
    "zs = 1.5\n",
    "Dd = cosm.getAngularDiameterDistance(zd)\n",
    "Ds = cosm.getAngularDiameterDistance(zs)\n",
    "Dds = cosm.getAngularDiameterDistance(zd, zs)"
   ]
  },
  {
   "cell_type": "code",
   "execution_count": 8,
   "metadata": {
    "collapsed": true
   },
   "outputs": [],
   "source": [
    "nie = lenses.SIELens(Dd, { \"velocityDispersion\": 600000, \"ellipticity\": 0.8})"
   ]
  },
  {
   "cell_type": "code",
   "execution_count": 9,
   "metadata": {
    "collapsed": true
   },
   "outputs": [],
   "source": [
    "lensInfo = { \n",
    "    \"lens\": nie,\n",
    "    \"bottomleft\": V(-10,-10)*ANGLE_ARCSEC,\n",
    "    \"topright\": V(10,10)*ANGLE_ARCSEC,\n",
    "    \"Ds\": Ds,\n",
    "    \"Dds\": Dds\n",
    "}"
   ]
  },
  {
   "cell_type": "code",
   "execution_count": 10,
   "metadata": {},
   "outputs": [
    {
     "data": {
      "application/vnd.jupyter.widget-view+json": {
       "model_id": "0604b8969bc345209bdb4017967df2f2"
      }
     },
     "metadata": {},
     "output_type": "display_data"
    },
    {
     "data": {
      "application/vnd.jupyter.widget-view+json": {
       "model_id": "75fc37414b274c1a96c390b617dcf63f"
      }
     },
     "metadata": {},
     "output_type": "display_data"
    },
    {
     "data": {
      "image/png": "[encoded data removed]",
      "text/plain": [
       "<matplotlib.figure.Figure at 0x7f6b754e6c18>"
      ]
     },
     "metadata": {},
     "output_type": "display_data"
    }
   ],
   "source": [
    "plotutil.plotImagePlane(lensInfo, angularUnit=ANGLE_ARCSEC)"
   ]
  },
  {
   "cell_type": "code",
   "execution_count": 11,
   "metadata": {
    "collapsed": true
   },
   "outputs": [],
   "source": [
    "comp = lenses.CompositeLens(Dd, [ {\"lens\": nie, \"factor\": 1, \"angle\":30, \"x\": 5*ANGLE_ARCSEC, \"y\": 0 }])"
   ]
  },
  {
   "cell_type": "code",
   "execution_count": 12,
   "metadata": {},
   "outputs": [
    {
     "data": {
      "application/vnd.jupyter.widget-view+json": {
       "model_id": "2e79f198a431465b8f23c73f625c7bb0"
      }
     },
     "metadata": {},
     "output_type": "display_data"
    },
    {
     "data": {
      "application/vnd.jupyter.widget-view+json": {
       "model_id": "c5d6b0b5c0774ed8b86f20f45bb4df3b"
      }
     },
     "metadata": {},
     "output_type": "display_data"
    },
    {
     "data": {
      "image/png": "[encoded data removed]",
      "text/plain": [
       "<matplotlib.figure.Figure at 0x7f6b7501bdd8>"
      ]
     },
     "metadata": {},
     "output_type": "display_data"
    }
   ],
   "source": [
    "lensInfo2 = { \n",
    "    \"lens\": comp,\n",
    "    \"bottomleft\": V(-10,-10)*ANGLE_ARCSEC,\n",
    "    \"topright\": V(10,10)*ANGLE_ARCSEC,\n",
    "    \"Ds\": Ds,\n",
    "    \"Dds\": Dds\n",
    "}\n",
    "\n",
    "plotutil.plotImagePlane(lensInfo2, angularUnit=ANGLE_ARCSEC)"
   ]
  },
  {
   "cell_type": "code",
   "execution_count": 13,
   "metadata": {
    "collapsed": true
   },
   "outputs": [],
   "source": [
    "critDens = lenses.getCriticalDensity(Dd, Ds, Dds)\n",
    "theta_s = 5*ANGLE_ARCSEC\n",
    "r_s = theta_s*Dd\n",
    "rho_s = critDens/r_s\n",
    "nfw = lenses.NFWLens(Dd, { \"rho_s\": rho_s, \"theta_s\": theta_s})"
   ]
  },
  {
   "cell_type": "code",
   "execution_count": 14,
   "metadata": {},
   "outputs": [
    {
     "data": {
      "application/vnd.jupyter.widget-view+json": {
       "model_id": "566e87a90fe549d4a6af154669e27376"
      }
     },
     "metadata": {},
     "output_type": "display_data"
    },
    {
     "data": {
      "application/vnd.jupyter.widget-view+json": {
       "model_id": "8ee0a6e23bac43e0b617f76256d9a9fd"
      }
     },
     "metadata": {},
     "output_type": "display_data"
    },
    {
     "data": {
      "image/png": "[encoded data removed]",
      "text/plain": [
       "<matplotlib.figure.Figure at 0x7f6b74ec8390>"
      ]
     },
     "metadata": {},
     "output_type": "display_data"
    }
   ],
   "source": [
    "plotutil.plotImagePlane({ \n",
    "    \"lens\": nfw,\n",
    "    \"bottomleft\": V(-10,-10)*ANGLE_ARCSEC,\n",
    "    \"topright\": V(10,10)*ANGLE_ARCSEC,\n",
    "    \"Ds\": Ds,\n",
    "    \"Dds\": Dds\n",
    "}, angularUnit=ANGLE_ARCSEC)"
   ]
  },
  {
   "cell_type": "code",
   "execution_count": 15,
   "metadata": {},
   "outputs": [],
   "source": [
    "q = 0.5\n",
    "ellnfw = lenses.EllipticNFWLens(Dd, { \"rho_s\": rho_s, \"theta_s\": theta_s, \"q\": q})"
   ]
  },
  {
   "cell_type": "code",
   "execution_count": 16,
   "metadata": {},
   "outputs": [
    {
     "data": {
      "application/vnd.jupyter.widget-view+json": {
       "model_id": "dc2b1d0c046c4e9494f497a530b3bd45"
      }
     },
     "metadata": {},
     "output_type": "display_data"
    },
    {
     "data": {
      "application/vnd.jupyter.widget-view+json": {
       "model_id": "26ab01028173411ca97085a1514c0fe9"
      }
     },
     "metadata": {},
     "output_type": "display_data"
    },
    {
     "data": {
      "image/png": "[encoded data removed]",
      "text/plain": [
       "<matplotlib.figure.Figure at 0x7f6b74e86940>"
      ]
     },
     "metadata": {},
     "output_type": "display_data"
    }
   ],
   "source": [
    "plotutil.plotImagePlane({ \n",
    "    \"lens\": ellnfw,\n",
    "    \"bottomleft\": V(-10,-10)*ANGLE_ARCSEC,\n",
    "    \"topright\": V(10,10)*ANGLE_ARCSEC,\n",
    "    \"Ds\": Ds,\n",
    "    \"Dds\": Dds\n",
    "}, angularUnit=ANGLE_ARCSEC)"
   ]
  },
  {
   "cell_type": "code",
   "execution_count": 17,
   "metadata": {},
   "outputs": [
    {
     "data": {
      "text/plain": [
       "array([ 4.19474583])"
      ]
     },
     "execution_count": 17,
     "metadata": {},
     "output_type": "execute_result"
    }
   ],
   "source": [
    "thetax, thetay = 0,2\n",
    "ellnfw.getSurfaceMassDensity(V(thetax,thetay)*ANGLE_ARCSEC)"
   ]
  },
  {
   "cell_type": "code",
   "execution_count": 18,
   "metadata": {},
   "outputs": [
    {
     "data": {
      "text/plain": [
       "array([ 4.19474583])"
      ]
     },
     "execution_count": 18,
     "metadata": {},
     "output_type": "execute_result"
    }
   ],
   "source": [
    "nfw.getSurfaceMassDensity(V(thetax,thetay/q)*ANGLE_ARCSEC)"
   ]
  },
  {
   "cell_type": "code",
   "execution_count": 19,
   "metadata": {},
   "outputs": [
    {
     "data": {
      "application/vnd.jupyter.widget-view+json": {
       "model_id": "609df28d3d0b4ddcb09e45c9e3a90f02"
      }
     },
     "metadata": {},
     "output_type": "display_data"
    },
    {
     "data": {
      "application/vnd.jupyter.widget-view+json": {
       "model_id": "2a002b9d02294adab756f75e6e7d4362"
      }
     },
     "metadata": {},
     "output_type": "display_data"
    },
    {
     "data": {
      "image/png": "[encoded data removed]",
      "text/plain": [
       "<matplotlib.figure.Figure at 0x7f6b74dbc400>"
      ]
     },
     "metadata": {},
     "output_type": "display_data"
    }
   ],
   "source": [
    "sersic = lenses.SersicLens(Dd, { \"centraldensity\": 10, \"scale\": 7*ANGLE_ARCSEC, \"index\": 1})\n",
    "plotutil.plotImagePlane({ \n",
    "    \"lens\": sersic,\n",
    "    \"bottomleft\": V(-10,-10)*ANGLE_ARCSEC,\n",
    "    \"topright\": V(10,10)*ANGLE_ARCSEC,\n",
    "    \"Ds\": Ds,\n",
    "    \"Dds\": Dds\n",
    "}, angularUnit=ANGLE_ARCSEC)"
   ]
  },
  {
   "cell_type": "code",
   "execution_count": 20,
   "metadata": {},
   "outputs": [
    {
     "data": {
      "application/vnd.jupyter.widget-view+json": {
       "model_id": "b06cedffe10643f9b8a313af0e13b667"
      }
     },
     "metadata": {},
     "output_type": "display_data"
    },
    {
     "data": {
      "application/vnd.jupyter.widget-view+json": {
       "model_id": "df5bc18d896d4e5a9ee569f8a1236649"
      }
     },
     "metadata": {},
     "output_type": "display_data"
    },
    {
     "data": {
      "image/png": "[encoded data removed]",
      "text/plain": [
       "<matplotlib.figure.Figure at 0x7f6b74d562e8>"
      ]
     },
     "metadata": {},
     "output_type": "display_data"
    }
   ],
   "source": [
    "ellsersic = lenses.EllipticSersicLens(Dd, { \"centraldensity\": 10, \"scale\": 7*ANGLE_ARCSEC, \"index\": 1, \"q\": q})\n",
    "plotutil.plotImagePlane({ \n",
    "    \"lens\": ellsersic,\n",
    "    \"bottomleft\": V(-10,-10)*ANGLE_ARCSEC,\n",
    "    \"topright\": V(10,10)*ANGLE_ARCSEC,\n",
    "    \"Ds\": Ds,\n",
    "    \"Dds\": Dds\n",
    "}, angularUnit=ANGLE_ARCSEC)"
   ]
  },
  {
   "cell_type": "code",
   "execution_count": 22,
   "metadata": {},
   "outputs": [
    {
     "data": {
      "text/plain": [
       "array([ 5.64718122])"
      ]
     },
     "execution_count": 22,
     "metadata": {},
     "output_type": "execute_result"
    }
   ],
   "source": [
    "ellsersic.getSurfaceMassDensity(V(thetax,thetay)*ANGLE_ARCSEC)"
   ]
  },
  {
   "cell_type": "code",
   "execution_count": 23,
   "metadata": {},
   "outputs": [
    {
     "data": {
      "text/plain": [
       "array([ 5.64718122])"
      ]
     },
     "execution_count": 23,
     "metadata": {},
     "output_type": "execute_result"
    }
   ],
   "source": [
    "sersic.getSurfaceMassDensity(V(thetax,thetay/q)*ANGLE_ARCSEC)"
   ]
  },
  {
   "cell_type": "code",
   "execution_count": null,
   "metadata": {
    "collapsed": true
   },
   "outputs": [],
   "source": []
  }
 ],
 "metadata": {
  "kernelspec": {
   "display_name": "Python 3",
   "language": "python",
   "name": "python3"
  },
  "language_info": {
   "codemirror_mode": {
    "name": "ipython",
    "version": 3
   },
   "file_extension": ".py",
   "mimetype": "text/x-python",
   "name": "python",
   "nbconvert_exporter": "python",
   "pygments_lexer": "ipython3",
   "version": "3.6.2"
  }
 },
 "nbformat": 4,
 "nbformat_minor": 1
}
