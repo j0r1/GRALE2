{
 "cells": [
  {
   "cell_type": "markdown",
   "metadata": {},
   "source": [
    "Bayesian weak lensing\n",
    "---------------------"
   ]
  },
  {
   "cell_type": "markdown",
   "metadata": {},
   "source": [
    "(Some pseudo-code to illustrate this can be found in [bayeswl_sketch.ipynb](bayeswl_sketch.ipynb))"
   ]
  },
  {
   "cell_type": "markdown",
   "metadata": {},
   "source": [
    "Suppose we have a number of ellipticity measurements $\\{ e_1^{m,i}, e_2^{m,i}\\}$ of background galaxies (the 'm' superscript stands for 'measured'), determined with uncertainties $\\{ \\sigma_1^i, \\sigma_2^i\\}$. The redshift of each background galaxy can either be unknown, known as $z_i$ exactly, or as $z_i$ with a gaussian uncertainty.\n",
    "\n",
    "The goal is to determine the model parameters based on these available data - in our case, the model parameters are a set of weights $\\{ M_j \\}$. So we're interested in\n",
    "\n",
    "$$ \\textrm{prob}(\\{ M_j \\} | \\{ e_1^{m,i}, e_2^{m,i}\\} ) $$\n",
    "\n",
    "Using Bayes' rule, this is\n",
    "\n",
    "$$ \\textrm{prob}(\\{ M_j \\} | \\{ e_1^{m,i}, e_2^{m,i}\\} ) \\propto \\textrm{prob}(\\{ e_1^{m,i}, e_2^{m,i}\\} | \\{ M_j \\} ) \\times \\textrm{prob}(\\{ M_j \\} ) $$\n",
    "\n",
    "For the second factor, the prior, we'll assume a uniform prior for each weight, leading to a constant factor. Ideally, a better informed prior should be used. This constant factor will be absorbed in the proportionality factor, and we therefore only focus on the likelihood $L = \\textrm{prob}(\\{ e_1^{m,i}, e_2^{m,i}\\} | M )$, where $M$ is shorthand for all the model parameters."
   ]
  },
  {
   "cell_type": "markdown",
   "metadata": {},
   "source": [
    "Assuming each measurement is independent,\n",
    "\n",
    "$$ L = \\textrm{prob}(\\{ e_1^{m,i}, e_2^{m,i}\\} | M) = \\prod_i \\textrm{prob}(e_1^{m,i}, e_2^{m,i} | M) $$\n",
    "\n",
    "Dropping the 'i' index for conciseness, and calling $e_1^r$ and $e_2^r$ the real, but still lensed, galaxy ellipticities, we have for a single factor, using marginalization:\n",
    "\n",
    "$$ \\textrm{prob}(e_1^m, e_2^m | M) = \\int \\int de_1^r de_2^r \\; \\textrm{prob}(e_1^m, e_2^m, e_1^r, e_2^r | M)\n",
    "= \\int \\int de_1^r de_2^r \\; \\textrm{prob}(e_1^m, e_2^m | e_1^r, e_2^r,  M) \\times \\textrm{prob}(e_1^r, e_2^r |  M) $$\n",
    "$$  = \\int \\int de_1^r de_2^r \\; \n",
    "\\frac{1}{\\sqrt{2\\pi}\\sigma_1}\\frac{1}{\\sqrt{2\\pi}\\sigma_2}\n",
    "\\exp\\left(-\\frac{1}{2}\\left(\\frac{e_1^m-e_1^r}{\\sigma_1}\\right)^2\\right)\n",
    "\\exp\\left(-\\frac{1}{2}\\left(\\frac{e_2^m-e_2^r}{\\sigma_2}\\right)^2\\right)\n",
    "\\textrm{prob}(e_1^r, e_2^r |  M) $$\n",
    "\n",
    "For non-zero $\\sigma$ values this is a 2D convolution of the $\\textrm{prob}(e_1^r, e_2^r |  M)$ probability distribution with a gaussian kernel, for very small or zero uncertainties, it is just the true probability distribution evaluated at the measured ellipticity values, $\\textrm{prob}(e_1^r = e_1^m, e_2^r = e_2^m |  M)$."
   ]
  },
  {
   "cell_type": "markdown",
   "metadata": {},
   "source": [
    "A specific model will cause specific deflection angle derivatives at the location of the galaxy, causing ellipticities $E_1$ and $E_2$ of the source to be transformed into ellipticities $e_1^r$ and $e_2^r$ of the image. Given the true ellipticities of the image, similarly the corresponding ellipticities of the source can be calculated.\n",
    "\n",
    "In case the redshift $z$ of the source is known, all required angular diameter distances are known in this transformation, and one can write\n",
    "\n",
    "$$\\textrm{prob}(e_1^r, e_2^r |  M) = \\textrm{prob}(E_1(e_1^r, e_2^r), E_2(e_1^r, e_2^r) |  M) \\left| \n",
    "\\frac{\\partial E}{\\partial e^r} \\right | $$\n",
    "\n",
    "Here, $E_1(e_1^r, e_2^r)$ and $E_2(e_1^r, e_2^r)$ are the functions that transform image plane ellipticities into source plane ellipticities (depends on $z$), and  $\\textrm{prob}(E_1, E_2 |  M)$ is the probability distribution of the source plane ellipticity values.\n",
    "\n",
    "For an unknown redshift, we need to marginalize\n",
    "\n",
    "$$\\textrm{prob}(e_1^r, e_2^r |  M) = \\int dz \\; \\textrm{prob}(e_1^r, e_2^r, z |  M) = \\int dz \\; \\textrm{prob}(e_1^r, e_2^r | z,  M) \\textrm{prob}(z) $$\n",
    "\n",
    "so, we need to calculate a weighted average of the case where $z$ is known, using the probability distribution of $z$. This is similar for a $z$ with gaussian error, only causing a different $\\textrm{prob}(z)$"
   ]
  },
  {
   "cell_type": "markdown",
   "metadata": {},
   "source": [
    "In complex notation, with $\\varepsilon_{src} = E_1 + i E_2$, $\\varepsilon_{img} = e_1^r + i e_2^r$, and $g = g_1 + i g_2$ , it is known that\n",
    "\n",
    "$$ \\varepsilon_{src} = \\frac{\\varepsilon_{img}-g}{1 - g^* \\varepsilon_{img}} \\quad \\textrm{if } |g| < 1 $$\n",
    "and\n",
    "\n",
    "$$ \\varepsilon_{src} = \\frac{1-g\\varepsilon_{img}^*}{\\varepsilon_{img}^* - g^*} \\quad \\textrm{otherwise}$$"
   ]
  },
  {
   "cell_type": "markdown",
   "metadata": {},
   "source": [
    "From these expressions, one finds for the case that $|g| < 1$, and writing $e$ instead of $e^r$ for conciseness:\n",
    "\n",
    "$$ E_1 = \\frac{\n",
    "-(e_1-g_1)(e_1 g_1 + e_2 g_2 -1) + (e_2 - g_2)(e_1 g_2 - e_2 g_1 )\n",
    "}{ (e_1 g_2 - e_2 g_1)^2 + (e_1 g_1 + e_2 g_2 -1 )^2\n",
    "}$$\n",
    "\n",
    "$$ E_2 = -\\frac{(e_1 - g_1)(e_1 g_2 - e_2 g_1) + (e_2 - g_2)(e_1 g_1 + e_2 g_2 - 1)\n",
    "}{ (e_1 g_2 - e_2 g_1)^2 + (e_1 g_1 + e_2 g_2 - 1)^2\n",
    "}$$\n",
    "\n",
    "which yields the jacobian\n",
    "\n",
    "$$\\left|\\frac{\\partial E}{\\partial e} \\right | = \n",
    "\\frac{ (g_1^2 + g_2^2 - 1)^2\n",
    "}{( e_1^2 g_1^2 + e_1^2 g_2^2 - 2 e_1 g_1 + e_2^2 g_1^2 + e_2^2 g_2^2 - 2 e_2 g_2 + 1)^2}\n",
    "$$"
   ]
  },
  {
   "cell_type": "markdown",
   "metadata": {},
   "source": [
    "For $|g| > 1$, this becomes\n",
    "\n",
    "$$ E_1 = \\frac{ - (e_1 - g_1)(e_1 g_1 + e_2 g_2 -1) + (e_2 - g_2)(e_1 g_2 - e_2 g_1)\n",
    "}{(e_1 - g_1)^2 + (e_2 - g_2)^2\n",
    "}$$\n",
    "\n",
    "$$ E_2 = \\frac{-(e_1 - g_1)(e_1 g_2 - e_2 g_1) + (e_2 - g_2)(e_1 g_1 + e_2 g_2 -1)\n",
    "}{(e_1 - g_1)^2 + (e_2 - g_2)^2\n",
    "}$$\n",
    "\n",
    "$$\\left|\\frac{\\partial E}{\\partial e} \\right | = \\frac{ (g_1^2 + g_2^2 - 1)^2\n",
    "}{ (e_1^2 - 2 e_1 g_1 + e_2^2 - 2 e_2 g_2 + g_1^2 + g_2^2)^2\n",
    "}$$"
   ]
  },
  {
   "cell_type": "markdown",
   "metadata": {},
   "source": [
    "For an elliptical source with short/long axis ratio $b$, one has\n",
    "\n",
    "$$ \\varepsilon_{src} = \\frac{1-b}{1+b}\\left(\\cos(2\\theta) + i \\sin(2\\theta)\\right)$$\n",
    "\n",
    "yielding a transformation between the ellipticity components $E_1$ and $E_2$, and axis ratio $b$ and orientation $\\theta$ otherwise.\n",
    "\n",
    "With such a transformation we can write\n",
    "\n",
    "$$\\textrm{prob}(E_1, E_2) = \\textrm{prob}\\left(b(E_1, E_2), \\theta(E_1, E_2)\\right) \\times \\textrm{Jacobian}\n",
    " = \\textrm{prob}\\left(b(E_1, E_2)) \\times \\textrm{prob}(\\theta(E_1, E_2)\\right) \\times \\textrm{Jacobian} $$"
   ]
  },
  {
   "cell_type": "markdown",
   "metadata": {},
   "source": [
    "The jacobian is\n",
    "\n",
    "$$\\textrm{Jacobian} = \\frac{2}{\\sqrt{E_1^2 + E_2^2} \\left(\\sqrt{E_1^2 + E_2^2} + 1\\right)^2 }$$\n",
    "\n",
    "and assuming no preferential orientation, then $\\textrm{prob}(\\theta) = \\frac{1}{2\\pi}$."
   ]
  },
  {
   "cell_type": "markdown",
   "metadata": {},
   "source": [
    "This then means that\n",
    "\n",
    "$$\\textrm{prob}(E_1,E_2) = \\frac{1}{\\pi}\\frac{1}{\\sqrt{E_1^2 + E_2^2} \\left(\\sqrt{E_1^2 + E_2^2}  +1\\right)^2}\n",
    "\\textrm{prob}(b(E_1, E_2)) $$"
   ]
  },
  {
   "cell_type": "markdown",
   "metadata": {},
   "source": [
    "The probability distribution $\\textrm{prob}(b)$ should be provided as input to the inversion procedure to be able to calculate this."
   ]
  },
  {
   "cell_type": "markdown",
   "metadata": {},
   "source": [
    "With these formulas, in principle for a set of individual galaxy ellipticity measurements, the probability can be calculated that, given a trial mass map, they originate from randomly oriented source galaxies. This can then be used as a fitness value in the GA in Grale.\n",
    "\n",
    "Current status:\n",
    "\n",
    "  - For computational stability, the logarithm of the likelihood is calculated, and since the GA actually looks for a minimum, the negative log likelihood is calculated\n",
    "  - For the 2D convolution, in case of non-zero uncertainties $\\sigma_1$ and $\\sigma_2$, the double integral is discretized again, replaced by a double sum. The default is to sample the $[-3\\sigma, 3\\sigma]$ range by seven points, which yields 49 samples in 2D. For these 'real' ellipticities, the probability can again be calculated as before, and in total a weighted sum is again calculated.\n",
    "  - A probability distribution can be specified for a completely unknown redshift. By default this is sampled at 16 locations between the lens redshift and the maximum z in the distribution\n",
    "  - For a redshift with gaussian error, the same sampling procedure is used as in the convolution above, again defaulting to 7 samples.\n",
    "\n",
    "Depending on the discretization of the redshift distribution (if there are unknown redshifts) and of the measurement uncertainties, the calculations can become quite intensive."
   ]
  },
  {
   "cell_type": "code",
   "execution_count": null,
   "metadata": {},
   "outputs": [],
   "source": []
  }
 ],
 "metadata": {
  "kernelspec": {
   "display_name": "Python 3",
   "language": "python",
   "name": "python3"
  },
  "language_info": {
   "codemirror_mode": {
    "name": "ipython",
    "version": 3
   },
   "file_extension": ".py",
   "mimetype": "text/x-python",
   "name": "python",
   "nbconvert_exporter": "python",
   "pygments_lexer": "ipython3",
   "version": "3.7.3"
  }
 },
 "nbformat": 4,
 "nbformat_minor": 4
}
