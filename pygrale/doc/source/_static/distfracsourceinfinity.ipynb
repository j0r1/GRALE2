{
 "cells": [
  {
   "cell_type": "markdown",
   "metadata": {},
   "source": [
    "Some short calculations to show that a source at $z_s = \\infty$ does **not** mean that\n",
    "$D_{ds}/D_s$ equals one."
   ]
  },
  {
   "cell_type": "code",
   "execution_count": 1,
   "metadata": {},
   "outputs": [],
   "source": [
    "%matplotlib inline\n",
    "import grale.cosmology as cosmology\n",
    "import numpy as np\n",
    "import matplotlib.pyplot as plt\n",
    "from scipy.integrate import quad"
   ]
  },
  {
   "cell_type": "markdown",
   "metadata": {},
   "source": [
    "We'll use a flat cosmology, with $\\Omega_m = 0.3$ and $\\Omega_v = 0.7$ for illustration."
   ]
  },
  {
   "cell_type": "code",
   "execution_count": 2,
   "metadata": {},
   "outputs": [],
   "source": [
    "Wm = 0.3\n",
    "Wv = (1-Wm)"
   ]
  },
  {
   "cell_type": "markdown",
   "metadata": {},
   "source": [
    "The angular diameter distance is given by\n",
    "\n",
    "$$D_{\\rm ang}(z_d, z_s) = \\frac{d_H}{1+z_s} \\int_{z_d}^{z_s} \\frac{dz}{E(z)}$$\n",
    "\n",
    "where\n",
    "\n",
    "$$E(z) = \\sqrt{\\Omega_m (1+z)^3 + \\Omega_v}$$\n",
    "\n",
    "From this, it's easy to see that\n",
    "\n",
    "$$\\frac{D_{ds}}{D_s} = \\frac{D_{\\rm ang}(z_d, z_s)}{D_{\\rm ang}(0, z_s)} = 1 - \\frac{\\int_0^{z_d} \\frac{dz}{E(z)}}{\\int_0^{z_s}\\frac{dz}{E(z)}} $$"
   ]
  },
  {
   "cell_type": "code",
   "execution_count": 3,
   "metadata": {},
   "outputs": [],
   "source": [
    "Einv = lambda z : 1/(Wm*(1+z)**3 + Wv)**0.5"
   ]
  },
  {
   "cell_type": "markdown",
   "metadata": {},
   "source": [
    "For a given lens, $z_d$ is fixed, so the numerator is a fixed number as well.\n",
    "\n",
    "The integrand in the denominator looks as follows:"
   ]
  },
  {
   "cell_type": "code",
   "execution_count": 4,
   "metadata": {},
   "outputs": [
    {
     "data": {
      "image/png": "[encoded data removed]",
      "text/plain": [
       "<Figure size 432x288 with 1 Axes>"
      ]
     },
     "metadata": {},
     "output_type": "display_data"
    }
   ],
   "source": [
    "zs = np.linspace(0, 20, 1000)\n",
    "Einvs = [ Einv(z) for z in zs ]\n",
    "\n",
    "plt.plot(zs, Einvs);"
   ]
  },
  {
   "cell_type": "markdown",
   "metadata": {},
   "source": [
    "and for any upper limit $z_s$, the integral of this will be a finite number. This then means that $D_{ds}/D_s$ \n",
    "will never become simply 1."
   ]
  },
  {
   "cell_type": "markdown",
   "metadata": {},
   "source": [
    "To further illustrate, let's calculate $D_{ds}/D_s$ using the angular diameter function\n",
    "in <span style=\"font-variant:small-caps;\">Grale</span>, as well as using the formula with the integrals."
   ]
  },
  {
   "cell_type": "code",
   "execution_count": 5,
   "metadata": {},
   "outputs": [],
   "source": [
    "cosm = cosmology.Cosmology(0.7, Wm, 0, Wv)\n",
    "\n",
    "def Dfrac(zd, zs):\n",
    "    return cosm.getAngularDiameterDistance(zd, zs)/cosm.getAngularDiameterDistance(zs)\n",
    "\n",
    "def Dfrac2(zd, zs):\n",
    "    return 1 - quad(Einv, 0, zd)[0]/quad(Einv, 0, zs)[0]"
   ]
  },
  {
   "cell_type": "code",
   "execution_count": 6,
   "metadata": {},
   "outputs": [
    {
     "data": {
      "text/plain": [
       "<matplotlib.legend.Legend at 0x7fa7049bf7b8>"
      ]
     },
     "execution_count": 6,
     "metadata": {},
     "output_type": "execute_result"
    },
    {
     "data": {
      "image/png": "[encoded data removed]",
      "text/plain": [
       "<Figure size 432x288 with 1 Axes>"
      ]
     },
     "metadata": {},
     "output_type": "display_data"
    }
   ],
   "source": [
    "zd = 0.4\n",
    "zs = np.linspace(0.5,10, 20)\n",
    "\n",
    "f = [ Dfrac(zd, z) for z in zs ]\n",
    "f2 = [ Dfrac2(zd, z) for z in zs ]\n",
    "\n",
    "plt.plot(zs, f, label=\"Using Grale\");\n",
    "plt.plot(zs, f2, 'o', label=\"Using integrals\");\n",
    "plt.legend()"
   ]
  },
  {
   "cell_type": "markdown",
   "metadata": {},
   "source": [
    "Apart from both results being the same (as they should), this also hints at the fact that this\n",
    "fraction will never become one.\n",
    "\n",
    "In fact, for a source at infinity, the fraction becomes:"
   ]
  },
  {
   "cell_type": "code",
   "execution_count": 7,
   "metadata": {},
   "outputs": [
    {
     "data": {
      "text/plain": [
       "0.8903873645532743"
      ]
     },
     "execution_count": 7,
     "metadata": {},
     "output_type": "execute_result"
    }
   ],
   "source": [
    "Dfrac2(zd, np.inf)"
   ]
  },
  {
   "cell_type": "code",
   "execution_count": null,
   "metadata": {},
   "outputs": [],
   "source": []
  }
 ],
 "metadata": {
  "kernelspec": {
   "display_name": "Python 3",
   "language": "python",
   "name": "python3"
  },
  "language_info": {
   "codemirror_mode": {
    "name": "ipython",
    "version": 3
   },
   "file_extension": ".py",
   "mimetype": "text/x-python",
   "name": "python",
   "nbconvert_exporter": "python",
   "pygments_lexer": "ipython3",
   "version": "3.6.8"
  }
 },
 "nbformat": 4,
 "nbformat_minor": 2
}
