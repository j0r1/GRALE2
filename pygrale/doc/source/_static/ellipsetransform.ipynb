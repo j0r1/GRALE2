{
 "cells": [
  {
   "cell_type": "markdown",
   "metadata": {},
   "source": [
    "Transformation of ellipse\n",
    "-------------------------\n",
    "These are some calculations to invesitage how an ellipse with axes $a$ and $b$, rotated over an angle\n",
    "$theta$, is transformed by \n",
    "\n",
    "$$\\left(\\begin{array}{c} x \\\\ y \\\\ \\end{array}\\right) = \n",
    " \\left(\\begin{array}{cc} A & B \\\\ B & C \\\\ \\end{array}\\right) \n",
    " \\left(\\begin{array}{c} X \\\\ Y \\\\ \\end{array}\\right)\n",
    "$$"
   ]
  },
  {
   "cell_type": "code",
   "execution_count": 1,
   "metadata": {},
   "outputs": [],
   "source": [
    "from sympy import *\n",
    "init_printing()"
   ]
  },
  {
   "cell_type": "code",
   "execution_count": 2,
   "metadata": {},
   "outputs": [],
   "source": [
    "x,y,a,b,theta,x_2,y_2 = symbols(\"x y a b theta x_2 y_2\")"
   ]
  },
  {
   "cell_type": "markdown",
   "metadata": {},
   "source": [
    "This is the equation of an ellipse with axes aligned with the coordinate axes"
   ]
  },
  {
   "cell_type": "code",
   "execution_count": 3,
   "metadata": {},
   "outputs": [
    {
     "data": {
      "image/png": "[encoded data removed]",
      "text/latex": [
       "$\\displaystyle -1 + \\frac{y^{2}}{b^{2}} + \\frac{x^{2}}{a^{2}}$"
      ],
      "text/plain": [
       "      2    2\n",
       "     y    x \n",
       "-1 + ── + ──\n",
       "      2    2\n",
       "     b    a "
      ]
     },
     "execution_count": 3,
     "metadata": {},
     "output_type": "execute_result"
    }
   ],
   "source": [
    "eqn = (x/a)**2 + (y/b)**2 - 1\n",
    "eqn"
   ]
  },
  {
   "cell_type": "markdown",
   "metadata": {},
   "source": [
    "To get the equation of this ellipse that's rotated over an angle $\\theta$ we'll set\n",
    "\n",
    "$$\\left(\\begin{array}{c} x \\\\ y \\\\ \\end{array}\\right) = \n",
    " \\left(\\begin{array}{cc} \\cos\\theta & -\\sin\\theta \\\\ \\sin\\theta & \\cos\\theta \\\\ \\end{array}\\right) \n",
    " \\left(\\begin{array}{c} x_2 \\\\ y_2 \\\\ \\end{array}\\right)\n",
    "$$\n",
    "\n",
    "We'll then just substitute $x_2$ and $y_2$ by $x$ and $y$ again. \n",
    "\n",
    "The resulting equation is the one for an ellipse centered on $(0,0)$, rotated over \n",
    "an angle $\\theta$:"
   ]
  },
  {
   "cell_type": "code",
   "execution_count": 4,
   "metadata": {},
   "outputs": [
    {
     "data": {
      "image/png": "[encoded data removed]",
      "text/latex": [
       "$\\displaystyle -1 + \\frac{\\left(x \\sin{\\left(\\theta \\right)} + y \\cos{\\left(\\theta \\right)}\\right)^{2}}{b^{2}} + \\frac{\\left(x \\cos{\\left(\\theta \\right)} - y \\sin{\\left(\\theta \\right)}\\right)^{2}}{a^{2}}$"
      ],
      "text/plain": [
       "                          2                        2\n",
       "     (x⋅sin(θ) + y⋅cos(θ))    (x⋅cos(θ) - y⋅sin(θ)) \n",
       "-1 + ────────────────────── + ──────────────────────\n",
       "                2                        2          \n",
       "               b                        a           "
      ]
     },
     "execution_count": 4,
     "metadata": {},
     "output_type": "execute_result"
    }
   ],
   "source": [
    "eqn = eqn.subs(x, x_2*cos(theta) - y_2*sin(theta)).subs(y, x_2*sin(theta) + y_2*cos(theta)).subs(x_2,x).subs(y_2,y)\n",
    "eqn"
   ]
  },
  {
   "cell_type": "markdown",
   "metadata": {},
   "source": [
    "In general an ellipse centered on $(0,0)$ can also be written as\n",
    "\n",
    "$$ q_x x^2 + q_{xy} x y + q_y y^2 = 0 $$\n",
    "\n",
    "So to get e.g. $q_x$, we'd need to differentiate the left side twice with respect to $x$ and divide by two. So for the previous equation, we'd find:"
   ]
  },
  {
   "cell_type": "code",
   "execution_count": 5,
   "metadata": {},
   "outputs": [
    {
     "name": "stdout",
     "output_type": "stream",
     "text": [
      "q_x = sin(theta)**2/b**2 + cos(theta)**2/a**2\n",
      "q_y = cos(theta)**2/b**2 + sin(theta)**2/a**2\n",
      "q_xy = sin(2*theta)/b**2 - sin(2*theta)/a**2\n"
     ]
    }
   ],
   "source": [
    "print(\"q_x =\", simplify(diff(diff(eqn,x),x)/2))\n",
    "print(\"q_y =\", simplify(diff(diff(eqn,y),y)/2))\n",
    "print(\"q_xy =\",simplify(diff(diff(eqn,x),y)))"
   ]
  },
  {
   "cell_type": "markdown",
   "metadata": {},
   "source": [
    "By combining these equations we can find out what $a$, $b$ and $theta$ are, based on the coefficients\n",
    "$q_x$, $q_xy$ and $q_x$, we'll do this below.\n",
    "\n",
    "First, we'll see what happens if we apply the linear transformation\n",
    "\n",
    "$$\\left(\\begin{array}{c} x \\\\ y \\\\ \\end{array}\\right) = \n",
    " \\left(\\begin{array}{cc} A & B \\\\ B & C \\\\ \\end{array}\\right) \n",
    " \\left(\\begin{array}{c} x_2 \\\\ y_2 \\\\ \\end{array}\\right)\n",
    "$$\n",
    "\n",
    "The idea is to see what happens to an ellipse-shaped source based on the gravitational lensing shear,\n",
    "for which $A = 1-\\kappa-\\gamma_1$, $B=-\\gamma_2$ and $C=1-\\kappa+\\gamma_1$.\n",
    "\n",
    "Here too, we'll then just substitute $x_2$ and $y_2$ by $x$ and $y$. "
   ]
  },
  {
   "cell_type": "code",
   "execution_count": 6,
   "metadata": {},
   "outputs": [
    {
     "data": {
      "image/png": "[encoded data removed]",
      "text/latex": [
       "$\\displaystyle -1 + \\frac{\\left(\\left(A x + B y\\right) \\sin{\\left(\\theta \\right)} + \\left(B x + C y\\right) \\cos{\\left(\\theta \\right)}\\right)^{2}}{b^{2}} + \\frac{\\left(\\left(A x + B y\\right) \\cos{\\left(\\theta \\right)} - \\left(B x + C y\\right) \\sin{\\left(\\theta \\right)}\\right)^{2}}{a^{2}}$"
      ],
      "text/plain": [
       "                                              2                               \n",
       "     ((A⋅x + B⋅y)⋅sin(θ) + (B⋅x + C⋅y)⋅cos(θ))    ((A⋅x + B⋅y)⋅cos(θ) - (B⋅x +\n",
       "-1 + ────────────────────────────────────────── + ────────────────────────────\n",
       "                          2                                            2      \n",
       "                         b                                            a       \n",
       "\n",
       "             2\n",
       " C⋅y)⋅sin(θ)) \n",
       "──────────────\n",
       "              \n",
       "              "
      ]
     },
     "execution_count": 6,
     "metadata": {},
     "output_type": "execute_result"
    }
   ],
   "source": [
    "A, B, C = symbols(\"A B C\")\n",
    "eqn = eqn.subs(x, x_2*A + y_2*B).subs(y, x_2*B+y_2*C).subs(x_2,x).subs(y_2,y)\n",
    "eqn"
   ]
  },
  {
   "cell_type": "markdown",
   "metadata": {},
   "source": [
    "Like before, if this is of the form\n",
    "\n",
    "$$ C_x x^2 + C_{xy} x y + C_y y^2 $$\n",
    "\n",
    "and we can get these coefficients by differentiating:"
   ]
  },
  {
   "cell_type": "code",
   "execution_count": 7,
   "metadata": {},
   "outputs": [
    {
     "name": "stdout",
     "output_type": "stream",
     "text": [
      "C_x = (A*sin(theta) + B*cos(theta))**2/b**2 + (A*cos(theta) - B*sin(theta))**2/a**2\n",
      "C_y = (B*sin(theta) + C*cos(theta))**2/b**2 + (B*cos(theta) - C*sin(theta))**2/a**2\n",
      "C_xy = 2*(a**2*(A*sin(theta) + B*cos(theta))*(B*sin(theta) + C*cos(theta)) + b**2*(A*cos(theta) - B*sin(theta))*(B*cos(theta) - C*sin(theta)))/(a**2*b**2)\n"
     ]
    }
   ],
   "source": [
    "symbols(\"C_x C_y C_xy\")\n",
    "C_x = simplify(diff(diff(eqn,x),x)/2)\n",
    "C_y = simplify(diff(diff(eqn,y),y)/2)\n",
    "C_xy = simplify(diff(diff(eqn,x),y))\n",
    "print(\"C_x =\", C_x)\n",
    "print(\"C_y =\", C_y)\n",
    "print(\"C_xy =\", C_xy)"
   ]
  },
  {
   "cell_type": "markdown",
   "metadata": {},
   "source": [
    "This again represents a rotated ellipse, but we don't yet know what it's axes are, or what \n",
    "the rotation angle is. To investigate, suppose our new ellipse has axes $a_{new}$ and $b_{new}$,\n",
    "where $a_{new} > b_{new}$, and is rotated over an angle $\\theta_{new}$.\n",
    "\n",
    "Below, we'll introduce $ab_{diff}$, which is $a_{new} - b_{new}$, and should be positive. This is\n",
    "a workaround to let sympy know that $a_{new} > $b_{new}$, see https://stackoverflow.com/a/49185019"
   ]
  },
  {
   "cell_type": "code",
   "execution_count": 8,
   "metadata": {},
   "outputs": [],
   "source": [
    "a_new,b_new = symbols(\"a_new b_new\", positive=True)\n",
    "\n",
    "theta_new = symbols(\"theta_new\")\n",
    "ab_diff = symbols(\"ab_diff\", positive=True)\n",
    "a_new = b_new+ab_diff"
   ]
  },
  {
   "cell_type": "markdown",
   "metadata": {},
   "source": [
    "From cell \\[5\\] we know what the coefficients are based on $a_{new}$, $b_{new} and $\\theta_{new}$:"
   ]
  },
  {
   "cell_type": "code",
   "execution_count": 9,
   "metadata": {},
   "outputs": [],
   "source": [
    "q_x,q_xy,q_y = symbols(\"q_x q_xy q_y\")\n",
    "q_x = sin(theta_new)**2/b_new**2 + cos(theta_new)**2/a_new**2\n",
    "q_y = cos(theta_new)**2/b_new**2 + sin(theta_new)**2/a_new**2\n",
    "q_xy =  sin(2*theta_new)/b_new**2 - sin(2*theta_new)/a_new**2"
   ]
  },
  {
   "cell_type": "markdown",
   "metadata": {},
   "source": [
    "By playing around with some combinations of $q_x$, $q_y$ and $q_{xy}$, we can get\n",
    "some parameters."
   ]
  },
  {
   "cell_type": "code",
   "execution_count": 10,
   "metadata": {},
   "outputs": [
    {
     "data": {
      "image/png": "[encoded data removed]",
      "text/latex": [
       "$\\displaystyle ab_{diff}^{2} + 2 ab_{diff} b_{new} + b_{new}^{2}$"
      ],
      "text/plain": [
       "       2                          2\n",
       "ab_diff  + 2⋅ab_diff⋅b_new + b_new "
      ]
     },
     "execution_count": 10,
     "metadata": {},
     "output_type": "execute_result"
    }
   ],
   "source": [
    "simplify(2/((q_x+q_y)-sqrt(q_xy**2+(q_x-q_y)**2)))"
   ]
  },
  {
   "cell_type": "markdown",
   "metadata": {},
   "source": [
    "This is $(ab_{diff} + b_{new})^2$, which is $((a_{new} - b_{new} + b_{new})^2$, or just $a_{new}^2$\n",
    "\n",
    "Similarly:"
   ]
  },
  {
   "cell_type": "code",
   "execution_count": 11,
   "metadata": {},
   "outputs": [
    {
     "data": {
      "image/png": "[encoded data removed]",
      "text/latex": [
       "$\\displaystyle b_{new}^{2}$"
      ],
      "text/plain": [
       "     2\n",
       "b_new "
      ]
     },
     "execution_count": 11,
     "metadata": {},
     "output_type": "execute_result"
    }
   ],
   "source": [
    "simplify(2/((q_x+q_y)+sqrt(q_xy**2+(q_x-q_y)**2)))"
   ]
  },
  {
   "cell_type": "code",
   "execution_count": 12,
   "metadata": {},
   "outputs": [],
   "source": [
    "# So our new parameters are:\n",
    "#a_new = sqrt(2/((q_x+q_y)-sqrt(q_xy**2+(q_x-q_y)**2)))\n",
    "#b_new = sqrt(2/((q_x+q_y)+sqrt(q_xy**2+(q_x-q_y)**2)))"
   ]
  },
  {
   "cell_type": "markdown",
   "metadata": {},
   "source": [
    "To get the angle, we'll calculate the sine and cosine:"
   ]
  },
  {
   "cell_type": "code",
   "execution_count": 13,
   "metadata": {},
   "outputs": [
    {
     "data": {
      "image/png": "[encoded data removed]",
      "text/latex": [
       "$\\displaystyle - \\frac{ab_{diff} \\left(ab_{diff} + 2 b_{new}\\right) \\cos{\\left(2 \\theta_{new} \\right)}}{b_{new}^{2} \\left(ab_{diff} + b_{new}\\right)^{2}}$"
      ],
      "text/plain": [
       "-ab_diff⋅(ab_diff + 2⋅b_new)⋅cos(2⋅θ_new) \n",
       "──────────────────────────────────────────\n",
       "             2                  2         \n",
       "        b_new ⋅(ab_diff + b_new)          "
      ]
     },
     "execution_count": 13,
     "metadata": {},
     "output_type": "execute_result"
    }
   ],
   "source": [
    "simplify(q_x-q_y)"
   ]
  },
  {
   "cell_type": "markdown",
   "metadata": {},
   "source": [
    "The pre-factor is just\n",
    "\n",
    "$$ -\\frac{a_{new}^2 - b_{new}^2}{b_{new}^2 a_{new}^2} $$\n",
    "\n",
    "as you can see from:"
   ]
  },
  {
   "cell_type": "code",
   "execution_count": 14,
   "metadata": {},
   "outputs": [
    {
     "data": {
      "image/png": "[encoded data removed]",
      "text/latex": [
       "$\\displaystyle - \\frac{ab_{diff} \\left(ab_{diff} + 2 b_{new}\\right)}{b_{new}^{2} \\left(ab_{diff} + b_{new}\\right)^{2}}$"
      ],
      "text/plain": [
       "-ab_diff⋅(ab_diff + 2⋅b_new) \n",
       "─────────────────────────────\n",
       "       2                  2  \n",
       "  b_new ⋅(ab_diff + b_new)   "
      ]
     },
     "execution_count": 14,
     "metadata": {},
     "output_type": "execute_result"
    }
   ],
   "source": [
    "-simplify(a_new**2-b_new**2)/(b_new**2*a_new**2)"
   ]
  },
  {
   "cell_type": "code",
   "execution_count": 15,
   "metadata": {},
   "outputs": [],
   "source": [
    "#So cos(2*theta_new) = -(q_x-q_y)*(a_new**2*b_new**2)/(a_new**2-b_new**2)"
   ]
  },
  {
   "cell_type": "code",
   "execution_count": 16,
   "metadata": {},
   "outputs": [
    {
     "data": {
      "image/png": "[encoded data removed]",
      "text/latex": [
       "$\\displaystyle - \\frac{\\sin{\\left(2 \\theta_{new} \\right)}}{\\left(ab_{diff} + b_{new}\\right)^{4}} + \\frac{\\sin{\\left(2 \\theta_{new} \\right)}}{b_{new}^{4}}$"
      ],
      "text/plain": [
       "     sin(2⋅θ_new)      sin(2⋅θ_new)\n",
       "- ────────────────── + ────────────\n",
       "                   4           4   \n",
       "  (ab_diff + b_new)       b_new    "
      ]
     },
     "execution_count": 16,
     "metadata": {},
     "output_type": "execute_result"
    }
   ],
   "source": [
    "simplify(q_xy*(q_x+q_y))"
   ]
  },
  {
   "cell_type": "code",
   "execution_count": 17,
   "metadata": {},
   "outputs": [],
   "source": [
    "# So sin(2*theta_new) = q_xy*(q_x+q_y)/(1/b_new**4-1/a_new**4) "
   ]
  },
  {
   "cell_type": "markdown",
   "metadata": {},
   "source": [
    "Once we know $\\sin2\\theta_{new}$ and $\\cos2\\theta_{new}$ we can get $2\\theta_{new}$ using $\\mathrm{arctan2}$ (https://en.wikipedia.org/wiki/Atan2)"
   ]
  },
  {
   "cell_type": "code",
   "execution_count": null,
   "metadata": {},
   "outputs": [],
   "source": []
  }
 ],
 "metadata": {
  "kernelspec": {
   "display_name": "Python 3",
   "language": "python",
   "name": "python3"
  },
  "language_info": {
   "codemirror_mode": {
    "name": "ipython",
    "version": 3
   },
   "file_extension": ".py",
   "mimetype": "text/x-python",
   "name": "python",
   "nbconvert_exporter": "python",
   "pygments_lexer": "ipython3",
   "version": "3.6.8"
  }
 },
 "nbformat": 4,
 "nbformat_minor": 2
}
